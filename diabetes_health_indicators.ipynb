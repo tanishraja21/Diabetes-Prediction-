{
  "cells": [
    {
      "cell_type": "markdown",
      "metadata": {
        "id": "view-in-github",
        "colab_type": "text"
      },
      "source": [
        "<a href=\"https://colab.research.google.com/github/tanishraja21/Diabetes-Prediction-/blob/main/diabetes_health_indicators.ipynb\" target=\"_parent\"><img src=\"https://colab.research.google.com/assets/colab-badge.svg\" alt=\"Open In Colab\"/></a>"
      ]
    },
    {
      "cell_type": "markdown",
      "id": "7f81cb06",
      "metadata": {
        "papermill": {
          "duration": 0.035806,
          "end_time": "2021-11-09T06:39:36.943732",
          "exception": false,
          "start_time": "2021-11-09T06:39:36.907926",
          "status": "completed"
        },
        "tags": [],
        "id": "7f81cb06"
      },
      "source": [
        "# Diabetes Health Prediction"
      ]
    },
    {
      "cell_type": "code",
      "execution_count": null,
      "id": "63f50ead",
      "metadata": {
        "execution": {
          "iopub.execute_input": "2021-11-09T06:39:37.019519Z",
          "iopub.status.busy": "2021-11-09T06:39:37.017774Z",
          "iopub.status.idle": "2021-11-09T06:39:38.437839Z",
          "shell.execute_reply": "2021-11-09T06:39:38.438365Z",
          "shell.execute_reply.started": "2021-11-09T06:37:36.729973Z"
        },
        "papermill": {
          "duration": 1.460169,
          "end_time": "2021-11-09T06:39:38.438661",
          "exception": false,
          "start_time": "2021-11-09T06:39:36.978492",
          "status": "completed"
        },
        "tags": [],
        "id": "63f50ead"
      },
      "outputs": [],
      "source": [
        "#import library\n",
        "import numpy as np\n",
        "import pandas as pd\n",
        "import seaborn as sns\n",
        "import matplotlib.pyplot as plt\n",
        "from sklearn.model_selection import train_test_split\n",
        "from sklearn.ensemble import RandomForestClassifier\n",
        "import math\n",
        "from sklearn import metrics"
      ]
    },
    {
      "cell_type": "markdown",
      "id": "51063da0",
      "metadata": {
        "papermill": {
          "duration": 0.042557,
          "end_time": "2021-11-09T06:39:38.515584",
          "exception": false,
          "start_time": "2021-11-09T06:39:38.473027",
          "status": "completed"
        },
        "tags": [],
        "id": "51063da0"
      },
      "source": [
        "## Data Extraction"
      ]
    },
    {
      "cell_type": "code",
      "execution_count": null,
      "id": "4a7723fb",
      "metadata": {
        "execution": {
          "iopub.execute_input": "2021-11-09T06:39:38.610860Z",
          "iopub.status.busy": "2021-11-09T06:39:38.610214Z",
          "iopub.status.idle": "2021-11-09T06:39:39.387810Z",
          "shell.execute_reply": "2021-11-09T06:39:39.388387Z",
          "shell.execute_reply.started": "2021-11-09T06:37:38.096933Z"
        },
        "papermill": {
          "duration": 0.831777,
          "end_time": "2021-11-09T06:39:39.388563",
          "exception": false,
          "start_time": "2021-11-09T06:39:38.556786",
          "status": "completed"
        },
        "tags": [],
        "id": "4a7723fb"
      },
      "outputs": [],
      "source": [
        "df = pd.read_csv('/content/diabetes_binary_health_indicators_BRFSS2015.csv')"
      ]
    },
    {
      "cell_type": "code",
      "execution_count": null,
      "id": "c9f267bc",
      "metadata": {
        "execution": {
          "iopub.execute_input": "2021-11-09T06:39:39.463623Z",
          "iopub.status.busy": "2021-11-09T06:39:39.462702Z",
          "iopub.status.idle": "2021-11-09T06:39:39.469283Z",
          "shell.execute_reply": "2021-11-09T06:39:39.469985Z",
          "shell.execute_reply.started": "2021-11-09T06:37:38.880902Z"
        },
        "papermill": {
          "duration": 0.045578,
          "end_time": "2021-11-09T06:39:39.470200",
          "exception": false,
          "start_time": "2021-11-09T06:39:39.424622",
          "status": "completed"
        },
        "tags": [],
        "colab": {
          "base_uri": "https://localhost:8080/"
        },
        "id": "c9f267bc",
        "outputId": "5deaa6b6-9388-46f1-b719-0dfeed2993da"
      },
      "outputs": [
        {
          "output_type": "execute_result",
          "data": {
            "text/plain": [
              "(253680, 22)"
            ]
          },
          "metadata": {},
          "execution_count": 4
        }
      ],
      "source": [
        "df.shape"
      ]
    },
    {
      "cell_type": "code",
      "execution_count": null,
      "id": "8c80259f",
      "metadata": {
        "execution": {
          "iopub.execute_input": "2021-11-09T06:39:39.608381Z",
          "iopub.status.busy": "2021-11-09T06:39:39.607449Z",
          "iopub.status.idle": "2021-11-09T06:39:39.640654Z",
          "shell.execute_reply": "2021-11-09T06:39:39.641180Z",
          "shell.execute_reply.started": "2021-11-09T06:37:38.892190Z"
        },
        "papermill": {
          "duration": 0.129747,
          "end_time": "2021-11-09T06:39:39.641347",
          "exception": false,
          "start_time": "2021-11-09T06:39:39.511600",
          "status": "completed"
        },
        "tags": [],
        "colab": {
          "base_uri": "https://localhost:8080/",
          "height": 299
        },
        "id": "8c80259f",
        "outputId": "e2734376-afab-4e1c-8568-76794cd420e5"
      },
      "outputs": [
        {
          "output_type": "execute_result",
          "data": {
            "text/plain": [
              "   Diabetes_binary  HighBP  HighChol  CholCheck   BMI  Smoker  Stroke  \\\n",
              "0              0.0     1.0       1.0        1.0  40.0     1.0     0.0   \n",
              "1              0.0     0.0       0.0        0.0  25.0     1.0     0.0   \n",
              "2              0.0     1.0       1.0        1.0  28.0     0.0     0.0   \n",
              "3              0.0     1.0       0.0        1.0  27.0     0.0     0.0   \n",
              "4              0.0     1.0       1.0        1.0  24.0     0.0     0.0   \n",
              "\n",
              "   HeartDiseaseorAttack  PhysActivity  Fruits  ...  AnyHealthcare  \\\n",
              "0                   0.0           0.0     0.0  ...            1.0   \n",
              "1                   0.0           1.0     0.0  ...            0.0   \n",
              "2                   0.0           0.0     1.0  ...            1.0   \n",
              "3                   0.0           1.0     1.0  ...            1.0   \n",
              "4                   0.0           1.0     1.0  ...            1.0   \n",
              "\n",
              "   NoDocbcCost  GenHlth  MentHlth  PhysHlth  DiffWalk  Sex   Age  Education  \\\n",
              "0          0.0      5.0      18.0      15.0       1.0  0.0   9.0        4.0   \n",
              "1          1.0      3.0       0.0       0.0       0.0  0.0   7.0        6.0   \n",
              "2          1.0      5.0      30.0      30.0       1.0  0.0   9.0        4.0   \n",
              "3          0.0      2.0       0.0       0.0       0.0  0.0  11.0        3.0   \n",
              "4          0.0      2.0       3.0       0.0       0.0  0.0  11.0        5.0   \n",
              "\n",
              "   Income  \n",
              "0     3.0  \n",
              "1     1.0  \n",
              "2     8.0  \n",
              "3     6.0  \n",
              "4     4.0  \n",
              "\n",
              "[5 rows x 22 columns]"
            ],
            "text/html": [
              "\n",
              "  <div id=\"df-766d91c6-d96d-470f-b27a-c10a6dc8e8a4\">\n",
              "    <div class=\"colab-df-container\">\n",
              "      <div>\n",
              "<style scoped>\n",
              "    .dataframe tbody tr th:only-of-type {\n",
              "        vertical-align: middle;\n",
              "    }\n",
              "\n",
              "    .dataframe tbody tr th {\n",
              "        vertical-align: top;\n",
              "    }\n",
              "\n",
              "    .dataframe thead th {\n",
              "        text-align: right;\n",
              "    }\n",
              "</style>\n",
              "<table border=\"1\" class=\"dataframe\">\n",
              "  <thead>\n",
              "    <tr style=\"text-align: right;\">\n",
              "      <th></th>\n",
              "      <th>Diabetes_binary</th>\n",
              "      <th>HighBP</th>\n",
              "      <th>HighChol</th>\n",
              "      <th>CholCheck</th>\n",
              "      <th>BMI</th>\n",
              "      <th>Smoker</th>\n",
              "      <th>Stroke</th>\n",
              "      <th>HeartDiseaseorAttack</th>\n",
              "      <th>PhysActivity</th>\n",
              "      <th>Fruits</th>\n",
              "      <th>...</th>\n",
              "      <th>AnyHealthcare</th>\n",
              "      <th>NoDocbcCost</th>\n",
              "      <th>GenHlth</th>\n",
              "      <th>MentHlth</th>\n",
              "      <th>PhysHlth</th>\n",
              "      <th>DiffWalk</th>\n",
              "      <th>Sex</th>\n",
              "      <th>Age</th>\n",
              "      <th>Education</th>\n",
              "      <th>Income</th>\n",
              "    </tr>\n",
              "  </thead>\n",
              "  <tbody>\n",
              "    <tr>\n",
              "      <th>0</th>\n",
              "      <td>0.0</td>\n",
              "      <td>1.0</td>\n",
              "      <td>1.0</td>\n",
              "      <td>1.0</td>\n",
              "      <td>40.0</td>\n",
              "      <td>1.0</td>\n",
              "      <td>0.0</td>\n",
              "      <td>0.0</td>\n",
              "      <td>0.0</td>\n",
              "      <td>0.0</td>\n",
              "      <td>...</td>\n",
              "      <td>1.0</td>\n",
              "      <td>0.0</td>\n",
              "      <td>5.0</td>\n",
              "      <td>18.0</td>\n",
              "      <td>15.0</td>\n",
              "      <td>1.0</td>\n",
              "      <td>0.0</td>\n",
              "      <td>9.0</td>\n",
              "      <td>4.0</td>\n",
              "      <td>3.0</td>\n",
              "    </tr>\n",
              "    <tr>\n",
              "      <th>1</th>\n",
              "      <td>0.0</td>\n",
              "      <td>0.0</td>\n",
              "      <td>0.0</td>\n",
              "      <td>0.0</td>\n",
              "      <td>25.0</td>\n",
              "      <td>1.0</td>\n",
              "      <td>0.0</td>\n",
              "      <td>0.0</td>\n",
              "      <td>1.0</td>\n",
              "      <td>0.0</td>\n",
              "      <td>...</td>\n",
              "      <td>0.0</td>\n",
              "      <td>1.0</td>\n",
              "      <td>3.0</td>\n",
              "      <td>0.0</td>\n",
              "      <td>0.0</td>\n",
              "      <td>0.0</td>\n",
              "      <td>0.0</td>\n",
              "      <td>7.0</td>\n",
              "      <td>6.0</td>\n",
              "      <td>1.0</td>\n",
              "    </tr>\n",
              "    <tr>\n",
              "      <th>2</th>\n",
              "      <td>0.0</td>\n",
              "      <td>1.0</td>\n",
              "      <td>1.0</td>\n",
              "      <td>1.0</td>\n",
              "      <td>28.0</td>\n",
              "      <td>0.0</td>\n",
              "      <td>0.0</td>\n",
              "      <td>0.0</td>\n",
              "      <td>0.0</td>\n",
              "      <td>1.0</td>\n",
              "      <td>...</td>\n",
              "      <td>1.0</td>\n",
              "      <td>1.0</td>\n",
              "      <td>5.0</td>\n",
              "      <td>30.0</td>\n",
              "      <td>30.0</td>\n",
              "      <td>1.0</td>\n",
              "      <td>0.0</td>\n",
              "      <td>9.0</td>\n",
              "      <td>4.0</td>\n",
              "      <td>8.0</td>\n",
              "    </tr>\n",
              "    <tr>\n",
              "      <th>3</th>\n",
              "      <td>0.0</td>\n",
              "      <td>1.0</td>\n",
              "      <td>0.0</td>\n",
              "      <td>1.0</td>\n",
              "      <td>27.0</td>\n",
              "      <td>0.0</td>\n",
              "      <td>0.0</td>\n",
              "      <td>0.0</td>\n",
              "      <td>1.0</td>\n",
              "      <td>1.0</td>\n",
              "      <td>...</td>\n",
              "      <td>1.0</td>\n",
              "      <td>0.0</td>\n",
              "      <td>2.0</td>\n",
              "      <td>0.0</td>\n",
              "      <td>0.0</td>\n",
              "      <td>0.0</td>\n",
              "      <td>0.0</td>\n",
              "      <td>11.0</td>\n",
              "      <td>3.0</td>\n",
              "      <td>6.0</td>\n",
              "    </tr>\n",
              "    <tr>\n",
              "      <th>4</th>\n",
              "      <td>0.0</td>\n",
              "      <td>1.0</td>\n",
              "      <td>1.0</td>\n",
              "      <td>1.0</td>\n",
              "      <td>24.0</td>\n",
              "      <td>0.0</td>\n",
              "      <td>0.0</td>\n",
              "      <td>0.0</td>\n",
              "      <td>1.0</td>\n",
              "      <td>1.0</td>\n",
              "      <td>...</td>\n",
              "      <td>1.0</td>\n",
              "      <td>0.0</td>\n",
              "      <td>2.0</td>\n",
              "      <td>3.0</td>\n",
              "      <td>0.0</td>\n",
              "      <td>0.0</td>\n",
              "      <td>0.0</td>\n",
              "      <td>11.0</td>\n",
              "      <td>5.0</td>\n",
              "      <td>4.0</td>\n",
              "    </tr>\n",
              "  </tbody>\n",
              "</table>\n",
              "<p>5 rows × 22 columns</p>\n",
              "</div>\n",
              "      <button class=\"colab-df-convert\" onclick=\"convertToInteractive('df-766d91c6-d96d-470f-b27a-c10a6dc8e8a4')\"\n",
              "              title=\"Convert this dataframe to an interactive table.\"\n",
              "              style=\"display:none;\">\n",
              "        \n",
              "  <svg xmlns=\"http://www.w3.org/2000/svg\" height=\"24px\"viewBox=\"0 0 24 24\"\n",
              "       width=\"24px\">\n",
              "    <path d=\"M0 0h24v24H0V0z\" fill=\"none\"/>\n",
              "    <path d=\"M18.56 5.44l.94 2.06.94-2.06 2.06-.94-2.06-.94-.94-2.06-.94 2.06-2.06.94zm-11 1L8.5 8.5l.94-2.06 2.06-.94-2.06-.94L8.5 2.5l-.94 2.06-2.06.94zm10 10l.94 2.06.94-2.06 2.06-.94-2.06-.94-.94-2.06-.94 2.06-2.06.94z\"/><path d=\"M17.41 7.96l-1.37-1.37c-.4-.4-.92-.59-1.43-.59-.52 0-1.04.2-1.43.59L10.3 9.45l-7.72 7.72c-.78.78-.78 2.05 0 2.83L4 21.41c.39.39.9.59 1.41.59.51 0 1.02-.2 1.41-.59l7.78-7.78 2.81-2.81c.8-.78.8-2.07 0-2.86zM5.41 20L4 18.59l7.72-7.72 1.47 1.35L5.41 20z\"/>\n",
              "  </svg>\n",
              "      </button>\n",
              "      \n",
              "  <style>\n",
              "    .colab-df-container {\n",
              "      display:flex;\n",
              "      flex-wrap:wrap;\n",
              "      gap: 12px;\n",
              "    }\n",
              "\n",
              "    .colab-df-convert {\n",
              "      background-color: #E8F0FE;\n",
              "      border: none;\n",
              "      border-radius: 50%;\n",
              "      cursor: pointer;\n",
              "      display: none;\n",
              "      fill: #1967D2;\n",
              "      height: 32px;\n",
              "      padding: 0 0 0 0;\n",
              "      width: 32px;\n",
              "    }\n",
              "\n",
              "    .colab-df-convert:hover {\n",
              "      background-color: #E2EBFA;\n",
              "      box-shadow: 0px 1px 2px rgba(60, 64, 67, 0.3), 0px 1px 3px 1px rgba(60, 64, 67, 0.15);\n",
              "      fill: #174EA6;\n",
              "    }\n",
              "\n",
              "    [theme=dark] .colab-df-convert {\n",
              "      background-color: #3B4455;\n",
              "      fill: #D2E3FC;\n",
              "    }\n",
              "\n",
              "    [theme=dark] .colab-df-convert:hover {\n",
              "      background-color: #434B5C;\n",
              "      box-shadow: 0px 1px 3px 1px rgba(0, 0, 0, 0.15);\n",
              "      filter: drop-shadow(0px 1px 2px rgba(0, 0, 0, 0.3));\n",
              "      fill: #FFFFFF;\n",
              "    }\n",
              "  </style>\n",
              "\n",
              "      <script>\n",
              "        const buttonEl =\n",
              "          document.querySelector('#df-766d91c6-d96d-470f-b27a-c10a6dc8e8a4 button.colab-df-convert');\n",
              "        buttonEl.style.display =\n",
              "          google.colab.kernel.accessAllowed ? 'block' : 'none';\n",
              "\n",
              "        async function convertToInteractive(key) {\n",
              "          const element = document.querySelector('#df-766d91c6-d96d-470f-b27a-c10a6dc8e8a4');\n",
              "          const dataTable =\n",
              "            await google.colab.kernel.invokeFunction('convertToInteractive',\n",
              "                                                     [key], {});\n",
              "          if (!dataTable) return;\n",
              "\n",
              "          const docLinkHtml = 'Like what you see? Visit the ' +\n",
              "            '<a target=\"_blank\" href=https://colab.research.google.com/notebooks/data_table.ipynb>data table notebook</a>'\n",
              "            + ' to learn more about interactive tables.';\n",
              "          element.innerHTML = '';\n",
              "          dataTable['output_type'] = 'display_data';\n",
              "          await google.colab.output.renderOutput(dataTable, element);\n",
              "          const docLink = document.createElement('div');\n",
              "          docLink.innerHTML = docLinkHtml;\n",
              "          element.appendChild(docLink);\n",
              "        }\n",
              "      </script>\n",
              "    </div>\n",
              "  </div>\n",
              "  "
            ]
          },
          "metadata": {},
          "execution_count": 5
        }
      ],
      "source": [
        "df.head()"
      ]
    },
    {
      "cell_type": "code",
      "execution_count": null,
      "id": "c2cedbe4",
      "metadata": {
        "execution": {
          "iopub.execute_input": "2021-11-09T06:39:39.715799Z",
          "iopub.status.busy": "2021-11-09T06:39:39.714855Z",
          "iopub.status.idle": "2021-11-09T06:39:39.934011Z",
          "shell.execute_reply": "2021-11-09T06:39:39.933481Z",
          "shell.execute_reply.started": "2021-11-09T06:37:38.935114Z"
        },
        "papermill": {
          "duration": 0.257792,
          "end_time": "2021-11-09T06:39:39.934154",
          "exception": false,
          "start_time": "2021-11-09T06:39:39.676362",
          "status": "completed"
        },
        "tags": [],
        "colab": {
          "base_uri": "https://localhost:8080/",
          "height": 299
        },
        "id": "c2cedbe4",
        "outputId": "53a4e6c7-b76e-4792-c98a-57d6ae7b584f"
      },
      "outputs": [
        {
          "output_type": "execute_result",
          "data": {
            "text/plain": [
              "   Diabetes_binary  HighBP  HighChol  CholCheck  BMI  Smoker  Stroke  \\\n",
              "0                0       1         1          1   40       1       0   \n",
              "1                0       0         0          0   25       1       0   \n",
              "2                0       1         1          1   28       0       0   \n",
              "3                0       1         0          1   27       0       0   \n",
              "4                0       1         1          1   24       0       0   \n",
              "\n",
              "   HeartDiseaseorAttack  PhysActivity  Fruits  ...  AnyHealthcare  \\\n",
              "0                     0             0       0  ...              1   \n",
              "1                     0             1       0  ...              0   \n",
              "2                     0             0       1  ...              1   \n",
              "3                     0             1       1  ...              1   \n",
              "4                     0             1       1  ...              1   \n",
              "\n",
              "   NoDocbcCost  GenHlth  MentHlth  PhysHlth  DiffWalk  Sex  Age  Education  \\\n",
              "0            0        5        18        15         1    0    9          4   \n",
              "1            1        3         0         0         0    0    7          6   \n",
              "2            1        5        30        30         1    0    9          4   \n",
              "3            0        2         0         0         0    0   11          3   \n",
              "4            0        2         3         0         0    0   11          5   \n",
              "\n",
              "   Income  \n",
              "0       3  \n",
              "1       1  \n",
              "2       8  \n",
              "3       6  \n",
              "4       4  \n",
              "\n",
              "[5 rows x 22 columns]"
            ],
            "text/html": [
              "\n",
              "  <div id=\"df-b5d45912-b93c-4886-9585-314545428eb9\">\n",
              "    <div class=\"colab-df-container\">\n",
              "      <div>\n",
              "<style scoped>\n",
              "    .dataframe tbody tr th:only-of-type {\n",
              "        vertical-align: middle;\n",
              "    }\n",
              "\n",
              "    .dataframe tbody tr th {\n",
              "        vertical-align: top;\n",
              "    }\n",
              "\n",
              "    .dataframe thead th {\n",
              "        text-align: right;\n",
              "    }\n",
              "</style>\n",
              "<table border=\"1\" class=\"dataframe\">\n",
              "  <thead>\n",
              "    <tr style=\"text-align: right;\">\n",
              "      <th></th>\n",
              "      <th>Diabetes_binary</th>\n",
              "      <th>HighBP</th>\n",
              "      <th>HighChol</th>\n",
              "      <th>CholCheck</th>\n",
              "      <th>BMI</th>\n",
              "      <th>Smoker</th>\n",
              "      <th>Stroke</th>\n",
              "      <th>HeartDiseaseorAttack</th>\n",
              "      <th>PhysActivity</th>\n",
              "      <th>Fruits</th>\n",
              "      <th>...</th>\n",
              "      <th>AnyHealthcare</th>\n",
              "      <th>NoDocbcCost</th>\n",
              "      <th>GenHlth</th>\n",
              "      <th>MentHlth</th>\n",
              "      <th>PhysHlth</th>\n",
              "      <th>DiffWalk</th>\n",
              "      <th>Sex</th>\n",
              "      <th>Age</th>\n",
              "      <th>Education</th>\n",
              "      <th>Income</th>\n",
              "    </tr>\n",
              "  </thead>\n",
              "  <tbody>\n",
              "    <tr>\n",
              "      <th>0</th>\n",
              "      <td>0</td>\n",
              "      <td>1</td>\n",
              "      <td>1</td>\n",
              "      <td>1</td>\n",
              "      <td>40</td>\n",
              "      <td>1</td>\n",
              "      <td>0</td>\n",
              "      <td>0</td>\n",
              "      <td>0</td>\n",
              "      <td>0</td>\n",
              "      <td>...</td>\n",
              "      <td>1</td>\n",
              "      <td>0</td>\n",
              "      <td>5</td>\n",
              "      <td>18</td>\n",
              "      <td>15</td>\n",
              "      <td>1</td>\n",
              "      <td>0</td>\n",
              "      <td>9</td>\n",
              "      <td>4</td>\n",
              "      <td>3</td>\n",
              "    </tr>\n",
              "    <tr>\n",
              "      <th>1</th>\n",
              "      <td>0</td>\n",
              "      <td>0</td>\n",
              "      <td>0</td>\n",
              "      <td>0</td>\n",
              "      <td>25</td>\n",
              "      <td>1</td>\n",
              "      <td>0</td>\n",
              "      <td>0</td>\n",
              "      <td>1</td>\n",
              "      <td>0</td>\n",
              "      <td>...</td>\n",
              "      <td>0</td>\n",
              "      <td>1</td>\n",
              "      <td>3</td>\n",
              "      <td>0</td>\n",
              "      <td>0</td>\n",
              "      <td>0</td>\n",
              "      <td>0</td>\n",
              "      <td>7</td>\n",
              "      <td>6</td>\n",
              "      <td>1</td>\n",
              "    </tr>\n",
              "    <tr>\n",
              "      <th>2</th>\n",
              "      <td>0</td>\n",
              "      <td>1</td>\n",
              "      <td>1</td>\n",
              "      <td>1</td>\n",
              "      <td>28</td>\n",
              "      <td>0</td>\n",
              "      <td>0</td>\n",
              "      <td>0</td>\n",
              "      <td>0</td>\n",
              "      <td>1</td>\n",
              "      <td>...</td>\n",
              "      <td>1</td>\n",
              "      <td>1</td>\n",
              "      <td>5</td>\n",
              "      <td>30</td>\n",
              "      <td>30</td>\n",
              "      <td>1</td>\n",
              "      <td>0</td>\n",
              "      <td>9</td>\n",
              "      <td>4</td>\n",
              "      <td>8</td>\n",
              "    </tr>\n",
              "    <tr>\n",
              "      <th>3</th>\n",
              "      <td>0</td>\n",
              "      <td>1</td>\n",
              "      <td>0</td>\n",
              "      <td>1</td>\n",
              "      <td>27</td>\n",
              "      <td>0</td>\n",
              "      <td>0</td>\n",
              "      <td>0</td>\n",
              "      <td>1</td>\n",
              "      <td>1</td>\n",
              "      <td>...</td>\n",
              "      <td>1</td>\n",
              "      <td>0</td>\n",
              "      <td>2</td>\n",
              "      <td>0</td>\n",
              "      <td>0</td>\n",
              "      <td>0</td>\n",
              "      <td>0</td>\n",
              "      <td>11</td>\n",
              "      <td>3</td>\n",
              "      <td>6</td>\n",
              "    </tr>\n",
              "    <tr>\n",
              "      <th>4</th>\n",
              "      <td>0</td>\n",
              "      <td>1</td>\n",
              "      <td>1</td>\n",
              "      <td>1</td>\n",
              "      <td>24</td>\n",
              "      <td>0</td>\n",
              "      <td>0</td>\n",
              "      <td>0</td>\n",
              "      <td>1</td>\n",
              "      <td>1</td>\n",
              "      <td>...</td>\n",
              "      <td>1</td>\n",
              "      <td>0</td>\n",
              "      <td>2</td>\n",
              "      <td>3</td>\n",
              "      <td>0</td>\n",
              "      <td>0</td>\n",
              "      <td>0</td>\n",
              "      <td>11</td>\n",
              "      <td>5</td>\n",
              "      <td>4</td>\n",
              "    </tr>\n",
              "  </tbody>\n",
              "</table>\n",
              "<p>5 rows × 22 columns</p>\n",
              "</div>\n",
              "      <button class=\"colab-df-convert\" onclick=\"convertToInteractive('df-b5d45912-b93c-4886-9585-314545428eb9')\"\n",
              "              title=\"Convert this dataframe to an interactive table.\"\n",
              "              style=\"display:none;\">\n",
              "        \n",
              "  <svg xmlns=\"http://www.w3.org/2000/svg\" height=\"24px\"viewBox=\"0 0 24 24\"\n",
              "       width=\"24px\">\n",
              "    <path d=\"M0 0h24v24H0V0z\" fill=\"none\"/>\n",
              "    <path d=\"M18.56 5.44l.94 2.06.94-2.06 2.06-.94-2.06-.94-.94-2.06-.94 2.06-2.06.94zm-11 1L8.5 8.5l.94-2.06 2.06-.94-2.06-.94L8.5 2.5l-.94 2.06-2.06.94zm10 10l.94 2.06.94-2.06 2.06-.94-2.06-.94-.94-2.06-.94 2.06-2.06.94z\"/><path d=\"M17.41 7.96l-1.37-1.37c-.4-.4-.92-.59-1.43-.59-.52 0-1.04.2-1.43.59L10.3 9.45l-7.72 7.72c-.78.78-.78 2.05 0 2.83L4 21.41c.39.39.9.59 1.41.59.51 0 1.02-.2 1.41-.59l7.78-7.78 2.81-2.81c.8-.78.8-2.07 0-2.86zM5.41 20L4 18.59l7.72-7.72 1.47 1.35L5.41 20z\"/>\n",
              "  </svg>\n",
              "      </button>\n",
              "      \n",
              "  <style>\n",
              "    .colab-df-container {\n",
              "      display:flex;\n",
              "      flex-wrap:wrap;\n",
              "      gap: 12px;\n",
              "    }\n",
              "\n",
              "    .colab-df-convert {\n",
              "      background-color: #E8F0FE;\n",
              "      border: none;\n",
              "      border-radius: 50%;\n",
              "      cursor: pointer;\n",
              "      display: none;\n",
              "      fill: #1967D2;\n",
              "      height: 32px;\n",
              "      padding: 0 0 0 0;\n",
              "      width: 32px;\n",
              "    }\n",
              "\n",
              "    .colab-df-convert:hover {\n",
              "      background-color: #E2EBFA;\n",
              "      box-shadow: 0px 1px 2px rgba(60, 64, 67, 0.3), 0px 1px 3px 1px rgba(60, 64, 67, 0.15);\n",
              "      fill: #174EA6;\n",
              "    }\n",
              "\n",
              "    [theme=dark] .colab-df-convert {\n",
              "      background-color: #3B4455;\n",
              "      fill: #D2E3FC;\n",
              "    }\n",
              "\n",
              "    [theme=dark] .colab-df-convert:hover {\n",
              "      background-color: #434B5C;\n",
              "      box-shadow: 0px 1px 3px 1px rgba(0, 0, 0, 0.15);\n",
              "      filter: drop-shadow(0px 1px 2px rgba(0, 0, 0, 0.3));\n",
              "      fill: #FFFFFF;\n",
              "    }\n",
              "  </style>\n",
              "\n",
              "      <script>\n",
              "        const buttonEl =\n",
              "          document.querySelector('#df-b5d45912-b93c-4886-9585-314545428eb9 button.colab-df-convert');\n",
              "        buttonEl.style.display =\n",
              "          google.colab.kernel.accessAllowed ? 'block' : 'none';\n",
              "\n",
              "        async function convertToInteractive(key) {\n",
              "          const element = document.querySelector('#df-b5d45912-b93c-4886-9585-314545428eb9');\n",
              "          const dataTable =\n",
              "            await google.colab.kernel.invokeFunction('convertToInteractive',\n",
              "                                                     [key], {});\n",
              "          if (!dataTable) return;\n",
              "\n",
              "          const docLinkHtml = 'Like what you see? Visit the ' +\n",
              "            '<a target=\"_blank\" href=https://colab.research.google.com/notebooks/data_table.ipynb>data table notebook</a>'\n",
              "            + ' to learn more about interactive tables.';\n",
              "          element.innerHTML = '';\n",
              "          dataTable['output_type'] = 'display_data';\n",
              "          await google.colab.output.renderOutput(dataTable, element);\n",
              "          const docLink = document.createElement('div');\n",
              "          docLink.innerHTML = docLinkHtml;\n",
              "          element.appendChild(docLink);\n",
              "        }\n",
              "      </script>\n",
              "    </div>\n",
              "  </div>\n",
              "  "
            ]
          },
          "metadata": {},
          "execution_count": 6
        }
      ],
      "source": [
        "#transform data\n",
        "df['Diabetes_binary'] = df['Diabetes_binary'].astype('int')\n",
        "df['HighBP'] = df['HighBP'].astype('int')\n",
        "df['HighChol'] = df['HighChol'].astype('int')\n",
        "df['CholCheck'] = df['CholCheck'].astype('int')\n",
        "df['BMI'] = df['BMI'].astype('int')\n",
        "df['Smoker'] = df['Smoker'].astype('int')\n",
        "df['Stroke'] = df['Stroke'].astype('int')\n",
        "df['HeartDiseaseorAttack'] = df['HeartDiseaseorAttack'].astype('int')\n",
        "df['PhysActivity'] = df['PhysActivity'].astype('int')\n",
        "df['Fruits'] = df['Fruits'].astype('int')\n",
        "df['Veggies'] = df['Veggies'].astype('int')\n",
        "\n",
        "df['HvyAlcoholConsump'] = df['HvyAlcoholConsump'].astype('int')\n",
        "df['AnyHealthcare'] = df['AnyHealthcare'].astype('int')\n",
        "df['NoDocbcCost'] = df['NoDocbcCost'].astype('int')\n",
        "df['GenHlth'] = df['GenHlth'].astype('int')\n",
        "df['MentHlth'] = df['MentHlth'].astype('int')\n",
        "df['PhysHlth'] = df['PhysHlth'].astype('int')\n",
        "df['DiffWalk'] = df['DiffWalk'].astype('int')\n",
        "df['Sex'] = df['Sex'].astype('int')\n",
        "df['Age'] = df['Age'].astype('int')\n",
        "df['Education'] = df['Education'].astype('int')\n",
        "df['Income'] = df['Income'].astype('int')\n",
        "df.head()"
      ]
    },
    {
      "cell_type": "code",
      "execution_count": null,
      "id": "23cc55d3",
      "metadata": {
        "execution": {
          "iopub.execute_input": "2021-11-09T06:39:40.015558Z",
          "iopub.status.busy": "2021-11-09T06:39:40.014064Z",
          "iopub.status.idle": "2021-11-09T06:39:40.243040Z",
          "shell.execute_reply": "2021-11-09T06:39:40.243591Z",
          "shell.execute_reply.started": "2021-11-09T06:37:39.167128Z"
        },
        "papermill": {
          "duration": 0.273686,
          "end_time": "2021-11-09T06:39:40.243762",
          "exception": false,
          "start_time": "2021-11-09T06:39:39.970076",
          "status": "completed"
        },
        "tags": [],
        "colab": {
          "base_uri": "https://localhost:8080/",
          "height": 393
        },
        "id": "23cc55d3",
        "outputId": "8d99e03c-95a0-44d5-de48-279daae2ae56"
      },
      "outputs": [
        {
          "output_type": "execute_result",
          "data": {
            "text/plain": [
              "       Diabetes_binary         HighBP       HighChol      CholCheck  \\\n",
              "count    253680.000000  253680.000000  253680.000000  253680.000000   \n",
              "mean          0.139333       0.429001       0.424121       0.962670   \n",
              "std           0.346294       0.494934       0.494210       0.189571   \n",
              "min           0.000000       0.000000       0.000000       0.000000   \n",
              "25%           0.000000       0.000000       0.000000       1.000000   \n",
              "50%           0.000000       0.000000       0.000000       1.000000   \n",
              "75%           0.000000       1.000000       1.000000       1.000000   \n",
              "max           1.000000       1.000000       1.000000       1.000000   \n",
              "\n",
              "                 BMI         Smoker         Stroke  HeartDiseaseorAttack  \\\n",
              "count  253680.000000  253680.000000  253680.000000         253680.000000   \n",
              "mean       28.382364       0.443169       0.040571              0.094186   \n",
              "std         6.608694       0.496761       0.197294              0.292087   \n",
              "min        12.000000       0.000000       0.000000              0.000000   \n",
              "25%        24.000000       0.000000       0.000000              0.000000   \n",
              "50%        27.000000       0.000000       0.000000              0.000000   \n",
              "75%        31.000000       1.000000       0.000000              0.000000   \n",
              "max        98.000000       1.000000       1.000000              1.000000   \n",
              "\n",
              "        PhysActivity         Fruits  ...  AnyHealthcare    NoDocbcCost  \\\n",
              "count  253680.000000  253680.000000  ...  253680.000000  253680.000000   \n",
              "mean        0.756544       0.634256  ...       0.951053       0.084177   \n",
              "std         0.429169       0.481639  ...       0.215759       0.277654   \n",
              "min         0.000000       0.000000  ...       0.000000       0.000000   \n",
              "25%         1.000000       0.000000  ...       1.000000       0.000000   \n",
              "50%         1.000000       1.000000  ...       1.000000       0.000000   \n",
              "75%         1.000000       1.000000  ...       1.000000       0.000000   \n",
              "max         1.000000       1.000000  ...       1.000000       1.000000   \n",
              "\n",
              "             GenHlth       MentHlth       PhysHlth       DiffWalk  \\\n",
              "count  253680.000000  253680.000000  253680.000000  253680.000000   \n",
              "mean        2.511392       3.184772       4.242081       0.168224   \n",
              "std         1.068477       7.412847       8.717951       0.374066   \n",
              "min         1.000000       0.000000       0.000000       0.000000   \n",
              "25%         2.000000       0.000000       0.000000       0.000000   \n",
              "50%         2.000000       0.000000       0.000000       0.000000   \n",
              "75%         3.000000       2.000000       3.000000       0.000000   \n",
              "max         5.000000      30.000000      30.000000       1.000000   \n",
              "\n",
              "                 Sex            Age      Education         Income  \n",
              "count  253680.000000  253680.000000  253680.000000  253680.000000  \n",
              "mean        0.440342       8.032119       5.050434       6.053875  \n",
              "std         0.496429       3.054220       0.985774       2.071148  \n",
              "min         0.000000       1.000000       1.000000       1.000000  \n",
              "25%         0.000000       6.000000       4.000000       5.000000  \n",
              "50%         0.000000       8.000000       5.000000       7.000000  \n",
              "75%         1.000000      10.000000       6.000000       8.000000  \n",
              "max         1.000000      13.000000       6.000000       8.000000  \n",
              "\n",
              "[8 rows x 22 columns]"
            ],
            "text/html": [
              "\n",
              "  <div id=\"df-4f163414-6924-4650-9af0-edf10ef78c09\">\n",
              "    <div class=\"colab-df-container\">\n",
              "      <div>\n",
              "<style scoped>\n",
              "    .dataframe tbody tr th:only-of-type {\n",
              "        vertical-align: middle;\n",
              "    }\n",
              "\n",
              "    .dataframe tbody tr th {\n",
              "        vertical-align: top;\n",
              "    }\n",
              "\n",
              "    .dataframe thead th {\n",
              "        text-align: right;\n",
              "    }\n",
              "</style>\n",
              "<table border=\"1\" class=\"dataframe\">\n",
              "  <thead>\n",
              "    <tr style=\"text-align: right;\">\n",
              "      <th></th>\n",
              "      <th>Diabetes_binary</th>\n",
              "      <th>HighBP</th>\n",
              "      <th>HighChol</th>\n",
              "      <th>CholCheck</th>\n",
              "      <th>BMI</th>\n",
              "      <th>Smoker</th>\n",
              "      <th>Stroke</th>\n",
              "      <th>HeartDiseaseorAttack</th>\n",
              "      <th>PhysActivity</th>\n",
              "      <th>Fruits</th>\n",
              "      <th>...</th>\n",
              "      <th>AnyHealthcare</th>\n",
              "      <th>NoDocbcCost</th>\n",
              "      <th>GenHlth</th>\n",
              "      <th>MentHlth</th>\n",
              "      <th>PhysHlth</th>\n",
              "      <th>DiffWalk</th>\n",
              "      <th>Sex</th>\n",
              "      <th>Age</th>\n",
              "      <th>Education</th>\n",
              "      <th>Income</th>\n",
              "    </tr>\n",
              "  </thead>\n",
              "  <tbody>\n",
              "    <tr>\n",
              "      <th>count</th>\n",
              "      <td>253680.000000</td>\n",
              "      <td>253680.000000</td>\n",
              "      <td>253680.000000</td>\n",
              "      <td>253680.000000</td>\n",
              "      <td>253680.000000</td>\n",
              "      <td>253680.000000</td>\n",
              "      <td>253680.000000</td>\n",
              "      <td>253680.000000</td>\n",
              "      <td>253680.000000</td>\n",
              "      <td>253680.000000</td>\n",
              "      <td>...</td>\n",
              "      <td>253680.000000</td>\n",
              "      <td>253680.000000</td>\n",
              "      <td>253680.000000</td>\n",
              "      <td>253680.000000</td>\n",
              "      <td>253680.000000</td>\n",
              "      <td>253680.000000</td>\n",
              "      <td>253680.000000</td>\n",
              "      <td>253680.000000</td>\n",
              "      <td>253680.000000</td>\n",
              "      <td>253680.000000</td>\n",
              "    </tr>\n",
              "    <tr>\n",
              "      <th>mean</th>\n",
              "      <td>0.139333</td>\n",
              "      <td>0.429001</td>\n",
              "      <td>0.424121</td>\n",
              "      <td>0.962670</td>\n",
              "      <td>28.382364</td>\n",
              "      <td>0.443169</td>\n",
              "      <td>0.040571</td>\n",
              "      <td>0.094186</td>\n",
              "      <td>0.756544</td>\n",
              "      <td>0.634256</td>\n",
              "      <td>...</td>\n",
              "      <td>0.951053</td>\n",
              "      <td>0.084177</td>\n",
              "      <td>2.511392</td>\n",
              "      <td>3.184772</td>\n",
              "      <td>4.242081</td>\n",
              "      <td>0.168224</td>\n",
              "      <td>0.440342</td>\n",
              "      <td>8.032119</td>\n",
              "      <td>5.050434</td>\n",
              "      <td>6.053875</td>\n",
              "    </tr>\n",
              "    <tr>\n",
              "      <th>std</th>\n",
              "      <td>0.346294</td>\n",
              "      <td>0.494934</td>\n",
              "      <td>0.494210</td>\n",
              "      <td>0.189571</td>\n",
              "      <td>6.608694</td>\n",
              "      <td>0.496761</td>\n",
              "      <td>0.197294</td>\n",
              "      <td>0.292087</td>\n",
              "      <td>0.429169</td>\n",
              "      <td>0.481639</td>\n",
              "      <td>...</td>\n",
              "      <td>0.215759</td>\n",
              "      <td>0.277654</td>\n",
              "      <td>1.068477</td>\n",
              "      <td>7.412847</td>\n",
              "      <td>8.717951</td>\n",
              "      <td>0.374066</td>\n",
              "      <td>0.496429</td>\n",
              "      <td>3.054220</td>\n",
              "      <td>0.985774</td>\n",
              "      <td>2.071148</td>\n",
              "    </tr>\n",
              "    <tr>\n",
              "      <th>min</th>\n",
              "      <td>0.000000</td>\n",
              "      <td>0.000000</td>\n",
              "      <td>0.000000</td>\n",
              "      <td>0.000000</td>\n",
              "      <td>12.000000</td>\n",
              "      <td>0.000000</td>\n",
              "      <td>0.000000</td>\n",
              "      <td>0.000000</td>\n",
              "      <td>0.000000</td>\n",
              "      <td>0.000000</td>\n",
              "      <td>...</td>\n",
              "      <td>0.000000</td>\n",
              "      <td>0.000000</td>\n",
              "      <td>1.000000</td>\n",
              "      <td>0.000000</td>\n",
              "      <td>0.000000</td>\n",
              "      <td>0.000000</td>\n",
              "      <td>0.000000</td>\n",
              "      <td>1.000000</td>\n",
              "      <td>1.000000</td>\n",
              "      <td>1.000000</td>\n",
              "    </tr>\n",
              "    <tr>\n",
              "      <th>25%</th>\n",
              "      <td>0.000000</td>\n",
              "      <td>0.000000</td>\n",
              "      <td>0.000000</td>\n",
              "      <td>1.000000</td>\n",
              "      <td>24.000000</td>\n",
              "      <td>0.000000</td>\n",
              "      <td>0.000000</td>\n",
              "      <td>0.000000</td>\n",
              "      <td>1.000000</td>\n",
              "      <td>0.000000</td>\n",
              "      <td>...</td>\n",
              "      <td>1.000000</td>\n",
              "      <td>0.000000</td>\n",
              "      <td>2.000000</td>\n",
              "      <td>0.000000</td>\n",
              "      <td>0.000000</td>\n",
              "      <td>0.000000</td>\n",
              "      <td>0.000000</td>\n",
              "      <td>6.000000</td>\n",
              "      <td>4.000000</td>\n",
              "      <td>5.000000</td>\n",
              "    </tr>\n",
              "    <tr>\n",
              "      <th>50%</th>\n",
              "      <td>0.000000</td>\n",
              "      <td>0.000000</td>\n",
              "      <td>0.000000</td>\n",
              "      <td>1.000000</td>\n",
              "      <td>27.000000</td>\n",
              "      <td>0.000000</td>\n",
              "      <td>0.000000</td>\n",
              "      <td>0.000000</td>\n",
              "      <td>1.000000</td>\n",
              "      <td>1.000000</td>\n",
              "      <td>...</td>\n",
              "      <td>1.000000</td>\n",
              "      <td>0.000000</td>\n",
              "      <td>2.000000</td>\n",
              "      <td>0.000000</td>\n",
              "      <td>0.000000</td>\n",
              "      <td>0.000000</td>\n",
              "      <td>0.000000</td>\n",
              "      <td>8.000000</td>\n",
              "      <td>5.000000</td>\n",
              "      <td>7.000000</td>\n",
              "    </tr>\n",
              "    <tr>\n",
              "      <th>75%</th>\n",
              "      <td>0.000000</td>\n",
              "      <td>1.000000</td>\n",
              "      <td>1.000000</td>\n",
              "      <td>1.000000</td>\n",
              "      <td>31.000000</td>\n",
              "      <td>1.000000</td>\n",
              "      <td>0.000000</td>\n",
              "      <td>0.000000</td>\n",
              "      <td>1.000000</td>\n",
              "      <td>1.000000</td>\n",
              "      <td>...</td>\n",
              "      <td>1.000000</td>\n",
              "      <td>0.000000</td>\n",
              "      <td>3.000000</td>\n",
              "      <td>2.000000</td>\n",
              "      <td>3.000000</td>\n",
              "      <td>0.000000</td>\n",
              "      <td>1.000000</td>\n",
              "      <td>10.000000</td>\n",
              "      <td>6.000000</td>\n",
              "      <td>8.000000</td>\n",
              "    </tr>\n",
              "    <tr>\n",
              "      <th>max</th>\n",
              "      <td>1.000000</td>\n",
              "      <td>1.000000</td>\n",
              "      <td>1.000000</td>\n",
              "      <td>1.000000</td>\n",
              "      <td>98.000000</td>\n",
              "      <td>1.000000</td>\n",
              "      <td>1.000000</td>\n",
              "      <td>1.000000</td>\n",
              "      <td>1.000000</td>\n",
              "      <td>1.000000</td>\n",
              "      <td>...</td>\n",
              "      <td>1.000000</td>\n",
              "      <td>1.000000</td>\n",
              "      <td>5.000000</td>\n",
              "      <td>30.000000</td>\n",
              "      <td>30.000000</td>\n",
              "      <td>1.000000</td>\n",
              "      <td>1.000000</td>\n",
              "      <td>13.000000</td>\n",
              "      <td>6.000000</td>\n",
              "      <td>8.000000</td>\n",
              "    </tr>\n",
              "  </tbody>\n",
              "</table>\n",
              "<p>8 rows × 22 columns</p>\n",
              "</div>\n",
              "      <button class=\"colab-df-convert\" onclick=\"convertToInteractive('df-4f163414-6924-4650-9af0-edf10ef78c09')\"\n",
              "              title=\"Convert this dataframe to an interactive table.\"\n",
              "              style=\"display:none;\">\n",
              "        \n",
              "  <svg xmlns=\"http://www.w3.org/2000/svg\" height=\"24px\"viewBox=\"0 0 24 24\"\n",
              "       width=\"24px\">\n",
              "    <path d=\"M0 0h24v24H0V0z\" fill=\"none\"/>\n",
              "    <path d=\"M18.56 5.44l.94 2.06.94-2.06 2.06-.94-2.06-.94-.94-2.06-.94 2.06-2.06.94zm-11 1L8.5 8.5l.94-2.06 2.06-.94-2.06-.94L8.5 2.5l-.94 2.06-2.06.94zm10 10l.94 2.06.94-2.06 2.06-.94-2.06-.94-.94-2.06-.94 2.06-2.06.94z\"/><path d=\"M17.41 7.96l-1.37-1.37c-.4-.4-.92-.59-1.43-.59-.52 0-1.04.2-1.43.59L10.3 9.45l-7.72 7.72c-.78.78-.78 2.05 0 2.83L4 21.41c.39.39.9.59 1.41.59.51 0 1.02-.2 1.41-.59l7.78-7.78 2.81-2.81c.8-.78.8-2.07 0-2.86zM5.41 20L4 18.59l7.72-7.72 1.47 1.35L5.41 20z\"/>\n",
              "  </svg>\n",
              "      </button>\n",
              "      \n",
              "  <style>\n",
              "    .colab-df-container {\n",
              "      display:flex;\n",
              "      flex-wrap:wrap;\n",
              "      gap: 12px;\n",
              "    }\n",
              "\n",
              "    .colab-df-convert {\n",
              "      background-color: #E8F0FE;\n",
              "      border: none;\n",
              "      border-radius: 50%;\n",
              "      cursor: pointer;\n",
              "      display: none;\n",
              "      fill: #1967D2;\n",
              "      height: 32px;\n",
              "      padding: 0 0 0 0;\n",
              "      width: 32px;\n",
              "    }\n",
              "\n",
              "    .colab-df-convert:hover {\n",
              "      background-color: #E2EBFA;\n",
              "      box-shadow: 0px 1px 2px rgba(60, 64, 67, 0.3), 0px 1px 3px 1px rgba(60, 64, 67, 0.15);\n",
              "      fill: #174EA6;\n",
              "    }\n",
              "\n",
              "    [theme=dark] .colab-df-convert {\n",
              "      background-color: #3B4455;\n",
              "      fill: #D2E3FC;\n",
              "    }\n",
              "\n",
              "    [theme=dark] .colab-df-convert:hover {\n",
              "      background-color: #434B5C;\n",
              "      box-shadow: 0px 1px 3px 1px rgba(0, 0, 0, 0.15);\n",
              "      filter: drop-shadow(0px 1px 2px rgba(0, 0, 0, 0.3));\n",
              "      fill: #FFFFFF;\n",
              "    }\n",
              "  </style>\n",
              "\n",
              "      <script>\n",
              "        const buttonEl =\n",
              "          document.querySelector('#df-4f163414-6924-4650-9af0-edf10ef78c09 button.colab-df-convert');\n",
              "        buttonEl.style.display =\n",
              "          google.colab.kernel.accessAllowed ? 'block' : 'none';\n",
              "\n",
              "        async function convertToInteractive(key) {\n",
              "          const element = document.querySelector('#df-4f163414-6924-4650-9af0-edf10ef78c09');\n",
              "          const dataTable =\n",
              "            await google.colab.kernel.invokeFunction('convertToInteractive',\n",
              "                                                     [key], {});\n",
              "          if (!dataTable) return;\n",
              "\n",
              "          const docLinkHtml = 'Like what you see? Visit the ' +\n",
              "            '<a target=\"_blank\" href=https://colab.research.google.com/notebooks/data_table.ipynb>data table notebook</a>'\n",
              "            + ' to learn more about interactive tables.';\n",
              "          element.innerHTML = '';\n",
              "          dataTable['output_type'] = 'display_data';\n",
              "          await google.colab.output.renderOutput(dataTable, element);\n",
              "          const docLink = document.createElement('div');\n",
              "          docLink.innerHTML = docLinkHtml;\n",
              "          element.appendChild(docLink);\n",
              "        }\n",
              "      </script>\n",
              "    </div>\n",
              "  </div>\n",
              "  "
            ]
          },
          "metadata": {},
          "execution_count": 7
        }
      ],
      "source": [
        "df.describe()"
      ]
    },
    {
      "cell_type": "code",
      "execution_count": null,
      "id": "3f55d406",
      "metadata": {
        "execution": {
          "iopub.execute_input": "2021-11-09T06:39:40.321704Z",
          "iopub.status.busy": "2021-11-09T06:39:40.321105Z",
          "iopub.status.idle": "2021-11-09T06:39:40.342253Z",
          "shell.execute_reply": "2021-11-09T06:39:40.342699Z",
          "shell.execute_reply.started": "2021-11-09T06:37:39.423819Z"
        },
        "papermill": {
          "duration": 0.060708,
          "end_time": "2021-11-09T06:39:40.342906",
          "exception": false,
          "start_time": "2021-11-09T06:39:40.282198",
          "status": "completed"
        },
        "tags": [],
        "colab": {
          "base_uri": "https://localhost:8080/"
        },
        "id": "3f55d406",
        "outputId": "0fc8605a-2239-4892-aa86-339170b9467e"
      },
      "outputs": [
        {
          "output_type": "stream",
          "name": "stdout",
          "text": [
            "<class 'pandas.core.frame.DataFrame'>\n",
            "RangeIndex: 253680 entries, 0 to 253679\n",
            "Data columns (total 22 columns):\n",
            " #   Column                Non-Null Count   Dtype\n",
            "---  ------                --------------   -----\n",
            " 0   Diabetes_binary       253680 non-null  int64\n",
            " 1   HighBP                253680 non-null  int64\n",
            " 2   HighChol              253680 non-null  int64\n",
            " 3   CholCheck             253680 non-null  int64\n",
            " 4   BMI                   253680 non-null  int64\n",
            " 5   Smoker                253680 non-null  int64\n",
            " 6   Stroke                253680 non-null  int64\n",
            " 7   HeartDiseaseorAttack  253680 non-null  int64\n",
            " 8   PhysActivity          253680 non-null  int64\n",
            " 9   Fruits                253680 non-null  int64\n",
            " 10  Veggies               253680 non-null  int64\n",
            " 11  HvyAlcoholConsump     253680 non-null  int64\n",
            " 12  AnyHealthcare         253680 non-null  int64\n",
            " 13  NoDocbcCost           253680 non-null  int64\n",
            " 14  GenHlth               253680 non-null  int64\n",
            " 15  MentHlth              253680 non-null  int64\n",
            " 16  PhysHlth              253680 non-null  int64\n",
            " 17  DiffWalk              253680 non-null  int64\n",
            " 18  Sex                   253680 non-null  int64\n",
            " 19  Age                   253680 non-null  int64\n",
            " 20  Education             253680 non-null  int64\n",
            " 21  Income                253680 non-null  int64\n",
            "dtypes: int64(22)\n",
            "memory usage: 42.6 MB\n"
          ]
        }
      ],
      "source": [
        "df.info()"
      ]
    },
    {
      "cell_type": "code",
      "execution_count": null,
      "id": "5935168d",
      "metadata": {
        "execution": {
          "iopub.execute_input": "2021-11-09T06:39:40.421821Z",
          "iopub.status.busy": "2021-11-09T06:39:40.421254Z",
          "iopub.status.idle": "2021-11-09T06:39:41.363000Z",
          "shell.execute_reply": "2021-11-09T06:39:41.362522Z",
          "shell.execute_reply.started": "2021-11-09T06:37:39.449295Z"
        },
        "papermill": {
          "duration": 0.983542,
          "end_time": "2021-11-09T06:39:41.363142",
          "exception": false,
          "start_time": "2021-11-09T06:39:40.379600",
          "status": "completed"
        },
        "tags": [],
        "colab": {
          "base_uri": "https://localhost:8080/",
          "height": 489
        },
        "id": "5935168d",
        "outputId": "4d8e6dd6-8fe6-4438-9a79-3bb721246e4c"
      },
      "outputs": [
        {
          "output_type": "display_data",
          "data": {
            "text/plain": [
              "<Figure size 720x432 with 2 Axes>"
            ],
            "image/png": "[encoded data removed]"
          },
          "metadata": {
            "needs_background": "light"
          }
        }
      ],
      "source": [
        "#heatmap correlation\n",
        "plt.figure(figsize = (10,6))\n",
        "sns.heatmap(df.corr(method='pearson'), vmax = 0.9, square = True)\n",
        "plt.title(\"Pearson Correlation\")\n",
        "plt.show()"
      ]
    },
    {
      "cell_type": "markdown",
      "source": [
        "# Mast kaam"
      ],
      "metadata": {
        "id": "8n08b1zXQ8xV"
      },
      "id": "8n08b1zXQ8xV"
    },
    {
      "cell_type": "code",
      "source": [
        "from sklearn.metrics import confusion_matrix\n",
        "from sklearn.metrics import classification_report\n",
        "import seaborn as sns\n",
        "X = df[df.columns[df.columns!='Diabetes_binary']]\n",
        "y= df['Diabetes_binary']\n",
        "\n",
        "X_train, X_test, y_train, y_test= train_test_split(X,y, test_size=0.25, random_state=101)\n",
        "\n",
        "\n",
        "# Training model\n",
        "from sklearn.linear_model import LogisticRegression\n",
        "\n",
        "lr1 = LogisticRegression(max_iter=500)\n",
        "lr1.fit(X_train, y_train)\n",
        "\n",
        "\n",
        "# Preditction and Confusion Matrix\n",
        "y_preds =lr1.predict(X_test)\n",
        "\n",
        "print(confusion_matrix(y_true=y_test, y_pred=y_preds))\n",
        "\n",
        "print('#############################################')\n",
        "\n",
        "print(classification_report(y_true=y_test, y_pred=y_preds))\n",
        "\n",
        "sns.heatmap(confusion_matrix(y_true=y_test, y_pred=y_preds), annot=True, cmap='viridis')\n"
      ],
      "metadata": {
        "colab": {
          "base_uri": "https://localhost:8080/",
          "height": 497
        },
        "id": "BgBTp89MQ6lZ",
        "outputId": "73109ff0-f1b6-44e9-9501-d953d1f4d972"
      },
      "id": "BgBTp89MQ6lZ",
      "execution_count": null,
      "outputs": [
        {
          "output_type": "stream",
          "name": "stdout",
          "text": [
            "[[53367  1114]\n",
            " [ 7590  1349]]\n",
            "#############################################\n",
            "              precision    recall  f1-score   support\n",
            "\n",
            "           0       0.88      0.98      0.92     54481\n",
            "           1       0.55      0.15      0.24      8939\n",
            "\n",
            "    accuracy                           0.86     63420\n",
            "   macro avg       0.71      0.57      0.58     63420\n",
            "weighted avg       0.83      0.86      0.83     63420\n",
            "\n"
          ]
        },
        {
          "output_type": "execute_result",
          "data": {
            "text/plain": [
              "<matplotlib.axes._subplots.AxesSubplot at 0x7f4a92cbabd0>"
            ]
          },
          "metadata": {},
          "execution_count": 33
        },
        {
          "output_type": "display_data",
          "data": {
            "text/plain": [
              "<Figure size 432x288 with 2 Axes>"
            ],
            "image/png": "[encoded data removed]"
          },
          "metadata": {
            "needs_background": "light"
          }
        }
      ]
    },
    {
      "cell_type": "code",
      "source": [
        "# GridSearch before UpSampling\n",
        "from sklearn.model_selection import GridSearchCV\n",
        "from sklearn.pipeline import Pipeline\n",
        "\n",
        "import warnings\n",
        "with warnings.catch_warnings():\n",
        "    param_grid = [\n",
        "      {'LR__solver':['sag','saga','newton-cg']}\n",
        "     ]\n",
        "    LR_pipe = Pipeline([\n",
        "            ('LR', LogisticRegression(C=0.01,penalty = 'l2', max_iter=1000))\n",
        "        ])\n",
        "\n",
        "    gcv_results = GridSearchCV(estimator=LR_pipe, param_grid=param_grid, scoring='accuracy', refit=True)\n",
        "    gcv_results = gcv_results.fit(X_train, y_train)\n",
        "    print(gcv_results.best_estimator_)\n",
        "    print(gcv_results.best_score_)\n"
      ],
      "metadata": {
        "colab": {
          "base_uri": "https://localhost:8080/"
        },
        "id": "laNDKXECQ6Vt",
        "outputId": "c78124aa-8430-4ff0-9c16-1cdfae37a433"
      },
      "id": "laNDKXECQ6Vt",
      "execution_count": null,
      "outputs": [
        {
          "output_type": "stream",
          "name": "stdout",
          "text": [
            "Pipeline(steps=[('LR',\n",
            "                 LogisticRegression(C=0.01, max_iter=1000,\n",
            "                                    solver='newton-cg'))])\n",
            "0.863986124251025\n"
          ]
        }
      ]
    },
    {
      "cell_type": "markdown",
      "source": [
        "## Upsampling"
      ],
      "metadata": {
        "id": "BNDpbsVOYA96"
      },
      "id": "BNDpbsVOYA96"
    },
    {
      "cell_type": "code",
      "source": [
        "# UP SAMPLING\n",
        "from imblearn.over_sampling import SMOTE\n",
        "from sklearn.model_selection import RepeatedStratifiedKFold\n",
        "from imblearn.over_sampling import SMOTE\n",
        "\n",
        "smote = SMOTE()\n",
        "print(y.value_counts())\n",
        "\n",
        "X_sm, y_sm = smote.fit_resample(X,y)\n",
        "\n",
        "print(y_sm.value_counts())"
      ],
      "metadata": {
        "colab": {
          "base_uri": "https://localhost:8080/"
        },
        "id": "-bvz0O0jQ6gL",
        "outputId": "3d8803f5-e6a2-4f31-d0b0-c3faa5cdf195"
      },
      "id": "-bvz0O0jQ6gL",
      "execution_count": null,
      "outputs": [
        {
          "output_type": "stream",
          "name": "stdout",
          "text": [
            "0    218334\n",
            "1     35346\n",
            "Name: Diabetes_binary, dtype: int64\n",
            "0    218334\n",
            "1    218334\n",
            "Name: Diabetes_binary, dtype: int64\n"
          ]
        }
      ]
    },
    {
      "cell_type": "code",
      "source": [
        "X.shape"
      ],
      "metadata": {
        "colab": {
          "base_uri": "https://localhost:8080/"
        },
        "id": "TK8TATVCQ6dj",
        "outputId": "af731003-c0c0-4305-c0c7-38c49ac103a7"
      },
      "id": "TK8TATVCQ6dj",
      "execution_count": null,
      "outputs": [
        {
          "output_type": "execute_result",
          "data": {
            "text/plain": [
              "(253680, 21)"
            ]
          },
          "metadata": {},
          "execution_count": 23
        }
      ]
    },
    {
      "cell_type": "code",
      "source": [
        "X_sm.shape"
      ],
      "metadata": {
        "colab": {
          "base_uri": "https://localhost:8080/"
        },
        "id": "AWTwdikAQ6bK",
        "outputId": "0c92ffc9-b6e1-430d-81f5-7c0a6c82c473"
      },
      "id": "AWTwdikAQ6bK",
      "execution_count": null,
      "outputs": [
        {
          "output_type": "execute_result",
          "data": {
            "text/plain": [
              "(436668, 21)"
            ]
          },
          "metadata": {},
          "execution_count": 24
        }
      ]
    },
    {
      "cell_type": "code",
      "source": [
        "X_train, X_test, y_train, y_test= train_test_split(X_sm,y_sm, test_size=0.25, random_state=101)\n",
        "\n",
        "\n",
        "# Training model\n",
        "from sklearn.linear_model import LogisticRegression\n",
        "\n",
        "lr1 = LogisticRegression(max_iter=500, penalty='l1', solver='saga')\n",
        "lr1.fit(X_train, y_train)\n",
        "\n",
        "\n",
        "# Preditction and Confusion Matrix\n",
        "y_preds =lr1.predict(X_test)\n",
        "\n",
        "print(confusion_matrix(y_true=y_test, y_pred=y_preds))\n",
        "\n",
        "print('#############################################')\n",
        "\n",
        "print(classification_report(y_true=y_test, y_pred=y_preds))"
      ],
      "metadata": {
        "colab": {
          "base_uri": "https://localhost:8080/"
        },
        "id": "DcGIo8jdQ6YT",
        "outputId": "b12ff887-0998-4be1-b933-4d5bd8f1de65"
      },
      "id": "DcGIo8jdQ6YT",
      "execution_count": null,
      "outputs": [
        {
          "output_type": "stream",
          "name": "stdout",
          "text": [
            "[[39836 14576]\n",
            " [13527 41228]]\n",
            "#############################################\n",
            "              precision    recall  f1-score   support\n",
            "\n",
            "           0       0.75      0.73      0.74     54412\n",
            "           1       0.74      0.75      0.75     54755\n",
            "\n",
            "    accuracy                           0.74    109167\n",
            "   macro avg       0.74      0.74      0.74    109167\n",
            "weighted avg       0.74      0.74      0.74    109167\n",
            "\n"
          ]
        }
      ]
    },
    {
      "cell_type": "code",
      "source": [
        "# GridSearch after UpSampling\n",
        "from sklearn.model_selection import GridSearchCV\n",
        "from sklearn.pipeline import Pipeline\n",
        "\n",
        "import warnings\n",
        "with warnings.catch_warnings():\n",
        "    param_grid = [\n",
        "      {'LR__solver':['sag','saga','newton-cg'],\n",
        "       'LR__C': [0.01, 0.1, 1, 10]}\n",
        "     ]\n",
        "    LR_pipe = Pipeline([\n",
        "            ('LR', LogisticRegression(C=0.01,penalty = 'l2', max_iter=1000))\n",
        "        ])\n",
        "\n",
        "    gcv_results = GridSearchCV(estimator=LR_pipe, param_grid=param_grid, scoring='accuracy', refit=True)\n",
        "    gcv_results = gcv_results.fit(X_train, y_train)\n",
        "    print(gcv_results.best_estimator_)\n",
        "    print(gcv_results.best_score_)\n"
      ],
      "metadata": {
        "colab": {
          "base_uri": "https://localhost:8080/"
        },
        "id": "B3pJFGtCQ6S3",
        "outputId": "ce42369b-9412-4b26-f1db-e33ee858c712"
      },
      "id": "B3pJFGtCQ6S3",
      "execution_count": null,
      "outputs": [
        {
          "output_type": "stream",
          "name": "stderr",
          "text": [
            "/usr/local/lib/python3.7/dist-packages/scipy/optimize/linesearch.py:314: LineSearchWarning: The line search algorithm did not converge\n",
            "  warn('The line search algorithm did not converge', LineSearchWarning)\n",
            "/usr/local/lib/python3.7/dist-packages/sklearn/utils/optimize.py:203: UserWarning: Line Search failed\n",
            "  warnings.warn(\"Line Search failed\")\n"
          ]
        },
        {
          "output_type": "stream",
          "name": "stdout",
          "text": [
            "Pipeline(steps=[('LR', LogisticRegression(C=10, max_iter=1000, solver='saga'))])\n",
            "0.7406633828677635\n"
          ]
        }
      ]
    },
    {
      "cell_type": "code",
      "source": [
        ""
      ],
      "metadata": {
        "id": "SqTQbfiSQ6Pt"
      },
      "id": "SqTQbfiSQ6Pt",
      "execution_count": null,
      "outputs": []
    },
    {
      "cell_type": "code",
      "source": [
        ""
      ],
      "metadata": {
        "id": "p1HuCPVyQ6Mv"
      },
      "id": "p1HuCPVyQ6Mv",
      "execution_count": null,
      "outputs": []
    },
    {
      "cell_type": "code",
      "execution_count": null,
      "id": "eac495f0",
      "metadata": {
        "execution": {
          "iopub.execute_input": "2021-11-09T06:39:41.442452Z",
          "iopub.status.busy": "2021-11-09T06:39:41.441854Z",
          "iopub.status.idle": "2021-11-09T06:39:41.523782Z",
          "shell.execute_reply": "2021-11-09T06:39:41.524264Z",
          "shell.execute_reply.started": "2021-11-09T06:37:40.364654Z"
        },
        "papermill": {
          "duration": 0.122858,
          "end_time": "2021-11-09T06:39:41.524438",
          "exception": false,
          "start_time": "2021-11-09T06:39:41.401580",
          "status": "completed"
        },
        "tags": [],
        "id": "eac495f0",
        "outputId": "868cf96b-9809-425a-dd2c-0722e1cdb3ef"
      },
      "outputs": [
        {
          "name": "stdout",
          "output_type": "stream",
          "text": [
            "(177576, 21)\n",
            "(177576,)\n",
            "(76104, 21)\n",
            "(76104,)\n"
          ]
        }
      ],
      "source": [
        "#split data\n",
        "X = df.drop('Diabetes_binary', axis = 1)\n",
        "y = df['Diabetes_binary']\n",
        "X_train, X_test, y_train, y_test = train_test_split(X, y, test_size = 0.3, random_state = 0)\n",
        "print(X_train.shape)\n",
        "print(y_train.shape)\n",
        "print(X_test.shape)\n",
        "print(y_test.shape)"
      ]
    },
    {
      "cell_type": "markdown",
      "id": "725a7017",
      "metadata": {
        "papermill": {
          "duration": 0.038498,
          "end_time": "2021-11-09T06:39:41.601643",
          "exception": false,
          "start_time": "2021-11-09T06:39:41.563145",
          "status": "completed"
        },
        "tags": [],
        "id": "725a7017"
      },
      "source": [
        "## Random Forest Model"
      ]
    },
    {
      "cell_type": "code",
      "execution_count": null,
      "id": "85079ffb",
      "metadata": {
        "execution": {
          "iopub.execute_input": "2021-11-09T06:39:41.685842Z",
          "iopub.status.busy": "2021-11-09T06:39:41.685217Z",
          "iopub.status.idle": "2021-11-09T06:40:04.935262Z",
          "shell.execute_reply": "2021-11-09T06:40:04.935716Z",
          "shell.execute_reply.started": "2021-11-09T06:37:40.458880Z"
        },
        "papermill": {
          "duration": 23.294877,
          "end_time": "2021-11-09T06:40:04.935916",
          "exception": false,
          "start_time": "2021-11-09T06:39:41.641039",
          "status": "completed"
        },
        "tags": [],
        "id": "85079ffb",
        "outputId": "5c42ba4e-bb36-4f94-9ca8-e238dd185670"
      },
      "outputs": [
        {
          "name": "stderr",
          "output_type": "stream",
          "text": [
            "[Parallel(n_jobs=1)]: Using backend SequentialBackend with 1 concurrent workers.\n",
            "[Parallel(n_jobs=1)]: Done 100 out of 100 | elapsed:   20.5s finished\n",
            "[Parallel(n_jobs=1)]: Using backend SequentialBackend with 1 concurrent workers.\n"
          ]
        },
        {
          "name": "stdout",
          "output_type": "stream",
          "text": [
            "CPU times: user 20.3 s, sys: 292 ms, total: 20.6 s\n",
            "Wall time: 20.6 s\n"
          ]
        },
        {
          "name": "stderr",
          "output_type": "stream",
          "text": [
            "[Parallel(n_jobs=1)]: Done 100 out of 100 | elapsed:    2.6s finished\n"
          ]
        },
        {
          "data": {
            "text/plain": [
              "0.8589693051613582"
            ]
          },
          "execution_count": 10,
          "metadata": {},
          "output_type": "execute_result"
        }
      ],
      "source": [
        "#build model\n",
        "rf = RandomForestClassifier(random_state = 1, max_features = 'sqrt', n_jobs = 1, verbose = 1)\n",
        "%time rf.fit(X_train, y_train)\n",
        "rf.score(X_test, y_test)"
      ]
    },
    {
      "cell_type": "code",
      "execution_count": null,
      "id": "9c9463e2",
      "metadata": {
        "execution": {
          "iopub.execute_input": "2021-11-09T06:40:05.021254Z",
          "iopub.status.busy": "2021-11-09T06:40:05.020204Z",
          "iopub.status.idle": "2021-11-09T06:40:07.643286Z",
          "shell.execute_reply": "2021-11-09T06:40:07.644110Z",
          "shell.execute_reply.started": "2021-11-09T06:38:04.748181Z"
        },
        "papermill": {
          "duration": 2.668857,
          "end_time": "2021-11-09T06:40:07.644356",
          "exception": false,
          "start_time": "2021-11-09T06:40:04.975499",
          "status": "completed"
        },
        "tags": [],
        "id": "9c9463e2",
        "outputId": "ca48dc49-009a-438f-91c6-a46f539fd144"
      },
      "outputs": [
        {
          "name": "stderr",
          "output_type": "stream",
          "text": [
            "[Parallel(n_jobs=1)]: Using backend SequentialBackend with 1 concurrent workers.\n"
          ]
        },
        {
          "name": "stdout",
          "output_type": "stream",
          "text": [
            "[0 0 0 ... 0 0 0]\n"
          ]
        },
        {
          "name": "stderr",
          "output_type": "stream",
          "text": [
            "[Parallel(n_jobs=1)]: Done 100 out of 100 | elapsed:    2.6s finished\n"
          ]
        }
      ],
      "source": [
        "#prediction\n",
        "y_pred = rf.predict(X_test)\n",
        "print(y_pred)"
      ]
    },
    {
      "cell_type": "code",
      "execution_count": null,
      "id": "1c9a941f",
      "metadata": {
        "execution": {
          "iopub.execute_input": "2021-11-09T06:40:07.731597Z",
          "iopub.status.busy": "2021-11-09T06:40:07.730985Z",
          "iopub.status.idle": "2021-11-09T06:40:07.735152Z",
          "shell.execute_reply": "2021-11-09T06:40:07.735591Z",
          "shell.execute_reply.started": "2021-11-09T06:38:31.491879Z"
        },
        "papermill": {
          "duration": 0.050296,
          "end_time": "2021-11-09T06:40:07.735759",
          "exception": false,
          "start_time": "2021-11-09T06:40:07.685463",
          "status": "completed"
        },
        "tags": [],
        "id": "1c9a941f",
        "outputId": "3964e7e8-b63c-41ec-aa3f-907855300a72"
      },
      "outputs": [
        {
          "name": "stdout",
          "output_type": "stream",
          "text": [
            "Mean Squared Error : 0.14103069483864186\n",
            "Root Mean Squared Error : 0.3755405368780338\n"
          ]
        }
      ],
      "source": [
        "#check MSE & RMSE \n",
        "mse = metrics.mean_squared_error(y_test, y_pred)\n",
        "print('Mean Squared Error : '+ str(mse))\n",
        "rmse = math.sqrt(metrics.mean_squared_error(y_test, y_pred))\n",
        "print('Root Mean Squared Error : '+ str(rmse))"
      ]
    },
    {
      "cell_type": "code",
      "execution_count": null,
      "id": "0d20408a",
      "metadata": {
        "execution": {
          "iopub.execute_input": "2021-11-09T06:40:07.823110Z",
          "iopub.status.busy": "2021-11-09T06:40:07.822436Z",
          "iopub.status.idle": "2021-11-09T06:40:08.110753Z",
          "shell.execute_reply": "2021-11-09T06:40:08.110286Z",
          "shell.execute_reply.started": "2021-11-09T06:38:07.506104Z"
        },
        "papermill": {
          "duration": 0.334402,
          "end_time": "2021-11-09T06:40:08.110907",
          "exception": false,
          "start_time": "2021-11-09T06:40:07.776505",
          "status": "completed"
        },
        "tags": [],
        "id": "0d20408a",
        "outputId": "fa8ff3a9-13f0-4198-b893-042f26077620"
      },
      "outputs": [
        {
          "name": "stdout",
          "output_type": "stream",
          "text": [
            "[[63593  1757]\n",
            " [ 8976  1778]]\n"
          ]
        },
        {
          "data": {
            "image/png": "[encoded data removed]",
            "text/plain": [
              "<Figure size 576x432 with 2 Axes>"
            ]
          },
          "metadata": {
            "needs_background": "light"
          },
          "output_type": "display_data"
        }
      ],
      "source": [
        "#confusion matrix\n",
        "matrix = metrics.confusion_matrix(y_test, y_pred)\n",
        "print(matrix)\n",
        "\n",
        "#heatmap matrix\n",
        "plt.figure(figsize = (8,6))\n",
        "sns.heatmap(matrix, annot = True, fmt = \".0f\", cmap = 'viridis')\n",
        "plt.title(\"Confusion Matrix\")\n",
        "plt.xlabel(\"Prediction\")\n",
        "plt.ylabel(\"Actual\")\n",
        "plt.show()"
      ]
    },
    {
      "cell_type": "code",
      "execution_count": null,
      "id": "4a5c9c41",
      "metadata": {
        "execution": {
          "iopub.execute_input": "2021-11-09T06:40:08.199617Z",
          "iopub.status.busy": "2021-11-09T06:40:08.198995Z",
          "iopub.status.idle": "2021-11-09T06:40:08.303799Z",
          "shell.execute_reply": "2021-11-09T06:40:08.304485Z",
          "shell.execute_reply.started": "2021-11-09T06:38:07.763618Z"
        },
        "papermill": {
          "duration": 0.152167,
          "end_time": "2021-11-09T06:40:08.304715",
          "exception": false,
          "start_time": "2021-11-09T06:40:08.152548",
          "status": "completed"
        },
        "tags": [],
        "id": "4a5c9c41",
        "outputId": "36c8d477-52d1-46f1-a30f-a1105565b6b0"
      },
      "outputs": [
        {
          "name": "stdout",
          "output_type": "stream",
          "text": [
            "              precision    recall  f1-score   support\n",
            "\n",
            "           0       0.88      0.97      0.92     65350\n",
            "           1       0.50      0.17      0.25     10754\n",
            "\n",
            "    accuracy                           0.86     76104\n",
            "   macro avg       0.69      0.57      0.59     76104\n",
            "weighted avg       0.82      0.86      0.83     76104\n",
            "\n"
          ]
        }
      ],
      "source": [
        "#classification report\n",
        "report = metrics.classification_report(y_test, y_pred)\n",
        "print(report)"
      ]
    },
    {
      "cell_type": "markdown",
      "id": "fb8c4544",
      "metadata": {
        "papermill": {
          "duration": 0.042292,
          "end_time": "2021-11-09T06:40:08.390568",
          "exception": false,
          "start_time": "2021-11-09T06:40:08.348276",
          "status": "completed"
        },
        "tags": [],
        "id": "fb8c4544"
      },
      "source": [
        "## Check Feature Importance"
      ]
    },
    {
      "cell_type": "code",
      "execution_count": null,
      "id": "ab436b52",
      "metadata": {
        "execution": {
          "iopub.execute_input": "2021-11-09T06:40:08.479848Z",
          "iopub.status.busy": "2021-11-09T06:40:08.477368Z",
          "iopub.status.idle": "2021-11-09T06:40:08.574378Z",
          "shell.execute_reply": "2021-11-09T06:40:08.574891Z",
          "shell.execute_reply.started": "2021-11-09T06:38:07.874685Z"
        },
        "papermill": {
          "duration": 0.142491,
          "end_time": "2021-11-09T06:40:08.575078",
          "exception": false,
          "start_time": "2021-11-09T06:40:08.432587",
          "status": "completed"
        },
        "tags": [],
        "id": "ab436b52",
        "outputId": "4f47ed54-a3b0-4412-862a-053d9fd10d7e"
      },
      "outputs": [
        {
          "name": "stdout",
          "output_type": "stream",
          "text": [
            "BMI                     0.182946\n",
            "Age                     0.121984\n",
            "Income                  0.100266\n",
            "PhysHlth                0.083499\n",
            "GenHlth                 0.070421\n",
            "Education               0.070301\n",
            "MentHlth                0.064000\n",
            "HighBP                  0.041406\n",
            "Smoker                  0.033860\n",
            "Fruits                  0.033164\n",
            "Sex                     0.027846\n",
            "HighChol                0.027443\n",
            "Veggies                 0.026501\n",
            "PhysActivity            0.025961\n",
            "DiffWalk                0.023561\n",
            "HeartDiseaseorAttack    0.018910\n",
            "NoDocbcCost             0.015357\n",
            "Stroke                  0.012512\n",
            "AnyHealthcare           0.008731\n",
            "HvyAlcoholConsump       0.007669\n",
            "CholCheck               0.003662\n",
            "dtype: float64\n"
          ]
        }
      ],
      "source": [
        "#defining of feature\n",
        "feature = pd.Series(rf.feature_importances_, index = X_train.columns).sort_values(ascending = False)\n",
        "print(feature)"
      ]
    },
    {
      "cell_type": "code",
      "execution_count": null,
      "id": "b5581fab",
      "metadata": {
        "execution": {
          "iopub.execute_input": "2021-11-09T06:40:08.664925Z",
          "iopub.status.busy": "2021-11-09T06:40:08.664281Z",
          "iopub.status.idle": "2021-11-09T06:40:08.996140Z",
          "shell.execute_reply": "2021-11-09T06:40:08.996578Z",
          "shell.execute_reply.started": "2021-11-09T06:38:07.979253Z"
        },
        "papermill": {
          "duration": 0.379457,
          "end_time": "2021-11-09T06:40:08.996754",
          "exception": false,
          "start_time": "2021-11-09T06:40:08.617297",
          "status": "completed"
        },
        "tags": [],
        "id": "b5581fab",
        "outputId": "a12fb965-ca4c-438c-a4c1-88b761b51eb5"
      },
      "outputs": [
        {
          "data": {
            "image/png": "[encoded data removed]",
            "text/plain": [
              "<Figure size 720x432 with 1 Axes>"
            ]
          },
          "metadata": {
            "needs_background": "light"
          },
          "output_type": "display_data"
        }
      ],
      "source": [
        "#visualize feature\n",
        "plt.figure(figsize = (10,6))\n",
        "sns.barplot(x = feature, y = feature.index)\n",
        "plt.title(\"Feature Importance\")\n",
        "plt.xlabel('Score')\n",
        "plt.ylabel('Features')\n",
        "plt.show()"
      ]
    },
    {
      "cell_type": "markdown",
      "id": "35fc4d5a",
      "metadata": {
        "papermill": {
          "duration": 0.042834,
          "end_time": "2021-11-09T06:40:09.083538",
          "exception": false,
          "start_time": "2021-11-09T06:40:09.040704",
          "status": "completed"
        },
        "tags": [],
        "id": "35fc4d5a"
      },
      "source": [
        "## Visualization"
      ]
    },
    {
      "cell_type": "code",
      "execution_count": null,
      "id": "39ab1a95",
      "metadata": {
        "execution": {
          "iopub.execute_input": "2021-11-09T06:40:09.175316Z",
          "iopub.status.busy": "2021-11-09T06:40:09.172724Z",
          "iopub.status.idle": "2021-11-09T06:40:10.390277Z",
          "shell.execute_reply": "2021-11-09T06:40:10.390763Z",
          "shell.execute_reply.started": "2021-11-09T06:38:08.277544Z"
        },
        "papermill": {
          "duration": 1.264581,
          "end_time": "2021-11-09T06:40:10.390947",
          "exception": false,
          "start_time": "2021-11-09T06:40:09.126366",
          "status": "completed"
        },
        "tags": [],
        "id": "39ab1a95",
        "outputId": "791b7d11-0f8d-4cb0-8c52-45d3b9e2d22e"
      },
      "outputs": [
        {
          "name": "stderr",
          "output_type": "stream",
          "text": [
            "/opt/conda/lib/python3.7/site-packages/ipykernel_launcher.py:3: SettingWithCopyWarning: \n",
            "A value is trying to be set on a copy of a slice from a DataFrame\n",
            "\n",
            "See the caveats in the documentation: https://pandas.pydata.org/pandas-docs/stable/user_guide/indexing.html#returning-a-view-versus-a-copy\n",
            "  This is separate from the ipykernel package so we can avoid doing imports until\n",
            "/opt/conda/lib/python3.7/site-packages/ipykernel_launcher.py:5: SettingWithCopyWarning: \n",
            "A value is trying to be set on a copy of a slice from a DataFrame\n",
            "\n",
            "See the caveats in the documentation: https://pandas.pydata.org/pandas-docs/stable/user_guide/indexing.html#returning-a-view-versus-a-copy\n",
            "  \"\"\"\n",
            "/opt/conda/lib/python3.7/site-packages/ipykernel_launcher.py:6: SettingWithCopyWarning: \n",
            "A value is trying to be set on a copy of a slice from a DataFrame\n",
            "\n",
            "See the caveats in the documentation: https://pandas.pydata.org/pandas-docs/stable/user_guide/indexing.html#returning-a-view-versus-a-copy\n",
            "  \n",
            "/opt/conda/lib/python3.7/site-packages/ipykernel_launcher.py:8: SettingWithCopyWarning: \n",
            "A value is trying to be set on a copy of a slice from a DataFrame\n",
            "\n",
            "See the caveats in the documentation: https://pandas.pydata.org/pandas-docs/stable/user_guide/indexing.html#returning-a-view-versus-a-copy\n",
            "  \n",
            "/opt/conda/lib/python3.7/site-packages/ipykernel_launcher.py:9: SettingWithCopyWarning: \n",
            "A value is trying to be set on a copy of a slice from a DataFrame\n",
            "\n",
            "See the caveats in the documentation: https://pandas.pydata.org/pandas-docs/stable/user_guide/indexing.html#returning-a-view-versus-a-copy\n",
            "  if __name__ == '__main__':\n",
            "/opt/conda/lib/python3.7/site-packages/ipykernel_launcher.py:11: SettingWithCopyWarning: \n",
            "A value is trying to be set on a copy of a slice from a DataFrame\n",
            "\n",
            "See the caveats in the documentation: https://pandas.pydata.org/pandas-docs/stable/user_guide/indexing.html#returning-a-view-versus-a-copy\n",
            "  # This is added back by InteractiveShellApp.init_path()\n",
            "/opt/conda/lib/python3.7/site-packages/ipykernel_launcher.py:12: SettingWithCopyWarning: \n",
            "A value is trying to be set on a copy of a slice from a DataFrame\n",
            "\n",
            "See the caveats in the documentation: https://pandas.pydata.org/pandas-docs/stable/user_guide/indexing.html#returning-a-view-versus-a-copy\n",
            "  if sys.path[0] == '':\n",
            "/opt/conda/lib/python3.7/site-packages/ipykernel_launcher.py:14: SettingWithCopyWarning: \n",
            "A value is trying to be set on a copy of a slice from a DataFrame\n",
            "\n",
            "See the caveats in the documentation: https://pandas.pydata.org/pandas-docs/stable/user_guide/indexing.html#returning-a-view-versus-a-copy\n",
            "  \n",
            "/opt/conda/lib/python3.7/site-packages/ipykernel_launcher.py:15: SettingWithCopyWarning: \n",
            "A value is trying to be set on a copy of a slice from a DataFrame\n",
            "\n",
            "See the caveats in the documentation: https://pandas.pydata.org/pandas-docs/stable/user_guide/indexing.html#returning-a-view-versus-a-copy\n",
            "  from ipykernel import kernelapp as app\n",
            "/opt/conda/lib/python3.7/site-packages/ipykernel_launcher.py:17: SettingWithCopyWarning: \n",
            "A value is trying to be set on a copy of a slice from a DataFrame\n",
            "\n",
            "See the caveats in the documentation: https://pandas.pydata.org/pandas-docs/stable/user_guide/indexing.html#returning-a-view-versus-a-copy\n",
            "/opt/conda/lib/python3.7/site-packages/ipykernel_launcher.py:18: SettingWithCopyWarning: \n",
            "A value is trying to be set on a copy of a slice from a DataFrame\n",
            "\n",
            "See the caveats in the documentation: https://pandas.pydata.org/pandas-docs/stable/user_guide/indexing.html#returning-a-view-versus-a-copy\n",
            "/opt/conda/lib/python3.7/site-packages/ipykernel_launcher.py:20: SettingWithCopyWarning: \n",
            "A value is trying to be set on a copy of a slice from a DataFrame\n",
            "\n",
            "See the caveats in the documentation: https://pandas.pydata.org/pandas-docs/stable/user_guide/indexing.html#returning-a-view-versus-a-copy\n",
            "/opt/conda/lib/python3.7/site-packages/ipykernel_launcher.py:21: SettingWithCopyWarning: \n",
            "A value is trying to be set on a copy of a slice from a DataFrame\n",
            "\n",
            "See the caveats in the documentation: https://pandas.pydata.org/pandas-docs/stable/user_guide/indexing.html#returning-a-view-versus-a-copy\n",
            "/opt/conda/lib/python3.7/site-packages/ipykernel_launcher.py:23: SettingWithCopyWarning: \n",
            "A value is trying to be set on a copy of a slice from a DataFrame\n",
            "\n",
            "See the caveats in the documentation: https://pandas.pydata.org/pandas-docs/stable/user_guide/indexing.html#returning-a-view-versus-a-copy\n",
            "/opt/conda/lib/python3.7/site-packages/ipykernel_launcher.py:24: SettingWithCopyWarning: \n",
            "A value is trying to be set on a copy of a slice from a DataFrame\n",
            "\n",
            "See the caveats in the documentation: https://pandas.pydata.org/pandas-docs/stable/user_guide/indexing.html#returning-a-view-versus-a-copy\n",
            "/opt/conda/lib/python3.7/site-packages/ipykernel_launcher.py:26: SettingWithCopyWarning: \n",
            "A value is trying to be set on a copy of a slice from a DataFrame\n",
            "\n",
            "See the caveats in the documentation: https://pandas.pydata.org/pandas-docs/stable/user_guide/indexing.html#returning-a-view-versus-a-copy\n",
            "/opt/conda/lib/python3.7/site-packages/ipykernel_launcher.py:27: SettingWithCopyWarning: \n",
            "A value is trying to be set on a copy of a slice from a DataFrame\n",
            "\n",
            "See the caveats in the documentation: https://pandas.pydata.org/pandas-docs/stable/user_guide/indexing.html#returning-a-view-versus-a-copy\n",
            "/opt/conda/lib/python3.7/site-packages/ipykernel_launcher.py:29: SettingWithCopyWarning: \n",
            "A value is trying to be set on a copy of a slice from a DataFrame\n",
            "\n",
            "See the caveats in the documentation: https://pandas.pydata.org/pandas-docs/stable/user_guide/indexing.html#returning-a-view-versus-a-copy\n",
            "/opt/conda/lib/python3.7/site-packages/ipykernel_launcher.py:30: SettingWithCopyWarning: \n",
            "A value is trying to be set on a copy of a slice from a DataFrame\n",
            "\n",
            "See the caveats in the documentation: https://pandas.pydata.org/pandas-docs/stable/user_guide/indexing.html#returning-a-view-versus-a-copy\n",
            "/opt/conda/lib/python3.7/site-packages/ipykernel_launcher.py:32: SettingWithCopyWarning: \n",
            "A value is trying to be set on a copy of a slice from a DataFrame\n",
            "\n",
            "See the caveats in the documentation: https://pandas.pydata.org/pandas-docs/stable/user_guide/indexing.html#returning-a-view-versus-a-copy\n",
            "/opt/conda/lib/python3.7/site-packages/ipykernel_launcher.py:33: SettingWithCopyWarning: \n",
            "A value is trying to be set on a copy of a slice from a DataFrame\n",
            "\n",
            "See the caveats in the documentation: https://pandas.pydata.org/pandas-docs/stable/user_guide/indexing.html#returning-a-view-versus-a-copy\n",
            "/opt/conda/lib/python3.7/site-packages/ipykernel_launcher.py:35: SettingWithCopyWarning: \n",
            "A value is trying to be set on a copy of a slice from a DataFrame\n",
            "\n",
            "See the caveats in the documentation: https://pandas.pydata.org/pandas-docs/stable/user_guide/indexing.html#returning-a-view-versus-a-copy\n",
            "/opt/conda/lib/python3.7/site-packages/ipykernel_launcher.py:36: SettingWithCopyWarning: \n",
            "A value is trying to be set on a copy of a slice from a DataFrame\n",
            "\n",
            "See the caveats in the documentation: https://pandas.pydata.org/pandas-docs/stable/user_guide/indexing.html#returning-a-view-versus-a-copy\n",
            "/opt/conda/lib/python3.7/site-packages/ipykernel_launcher.py:38: SettingWithCopyWarning: \n",
            "A value is trying to be set on a copy of a slice from a DataFrame\n",
            "\n",
            "See the caveats in the documentation: https://pandas.pydata.org/pandas-docs/stable/user_guide/indexing.html#returning-a-view-versus-a-copy\n",
            "/opt/conda/lib/python3.7/site-packages/ipykernel_launcher.py:39: SettingWithCopyWarning: \n",
            "A value is trying to be set on a copy of a slice from a DataFrame\n",
            "\n",
            "See the caveats in the documentation: https://pandas.pydata.org/pandas-docs/stable/user_guide/indexing.html#returning-a-view-versus-a-copy\n",
            "/opt/conda/lib/python3.7/site-packages/ipykernel_launcher.py:41: SettingWithCopyWarning: \n",
            "A value is trying to be set on a copy of a slice from a DataFrame\n",
            "\n",
            "See the caveats in the documentation: https://pandas.pydata.org/pandas-docs/stable/user_guide/indexing.html#returning-a-view-versus-a-copy\n",
            "/opt/conda/lib/python3.7/site-packages/ipykernel_launcher.py:42: SettingWithCopyWarning: \n",
            "A value is trying to be set on a copy of a slice from a DataFrame\n",
            "\n",
            "See the caveats in the documentation: https://pandas.pydata.org/pandas-docs/stable/user_guide/indexing.html#returning-a-view-versus-a-copy\n",
            "/opt/conda/lib/python3.7/site-packages/ipykernel_launcher.py:43: SettingWithCopyWarning: \n",
            "A value is trying to be set on a copy of a slice from a DataFrame\n",
            "\n",
            "See the caveats in the documentation: https://pandas.pydata.org/pandas-docs/stable/user_guide/indexing.html#returning-a-view-versus-a-copy\n",
            "/opt/conda/lib/python3.7/site-packages/ipykernel_launcher.py:44: SettingWithCopyWarning: \n",
            "A value is trying to be set on a copy of a slice from a DataFrame\n",
            "\n",
            "See the caveats in the documentation: https://pandas.pydata.org/pandas-docs/stable/user_guide/indexing.html#returning-a-view-versus-a-copy\n",
            "/opt/conda/lib/python3.7/site-packages/ipykernel_launcher.py:45: SettingWithCopyWarning: \n",
            "A value is trying to be set on a copy of a slice from a DataFrame\n",
            "\n",
            "See the caveats in the documentation: https://pandas.pydata.org/pandas-docs/stable/user_guide/indexing.html#returning-a-view-versus-a-copy\n",
            "/opt/conda/lib/python3.7/site-packages/ipykernel_launcher.py:47: SettingWithCopyWarning: \n",
            "A value is trying to be set on a copy of a slice from a DataFrame\n",
            "\n",
            "See the caveats in the documentation: https://pandas.pydata.org/pandas-docs/stable/user_guide/indexing.html#returning-a-view-versus-a-copy\n",
            "/opt/conda/lib/python3.7/site-packages/ipykernel_launcher.py:48: SettingWithCopyWarning: \n",
            "A value is trying to be set on a copy of a slice from a DataFrame\n",
            "\n",
            "See the caveats in the documentation: https://pandas.pydata.org/pandas-docs/stable/user_guide/indexing.html#returning-a-view-versus-a-copy\n",
            "/opt/conda/lib/python3.7/site-packages/ipykernel_launcher.py:50: SettingWithCopyWarning: \n",
            "A value is trying to be set on a copy of a slice from a DataFrame\n",
            "\n",
            "See the caveats in the documentation: https://pandas.pydata.org/pandas-docs/stable/user_guide/indexing.html#returning-a-view-versus-a-copy\n",
            "/opt/conda/lib/python3.7/site-packages/ipykernel_launcher.py:51: SettingWithCopyWarning: \n",
            "A value is trying to be set on a copy of a slice from a DataFrame\n",
            "\n",
            "See the caveats in the documentation: https://pandas.pydata.org/pandas-docs/stable/user_guide/indexing.html#returning-a-view-versus-a-copy\n",
            "/opt/conda/lib/python3.7/site-packages/ipykernel_launcher.py:53: SettingWithCopyWarning: \n",
            "A value is trying to be set on a copy of a slice from a DataFrame\n",
            "\n",
            "See the caveats in the documentation: https://pandas.pydata.org/pandas-docs/stable/user_guide/indexing.html#returning-a-view-versus-a-copy\n",
            "/opt/conda/lib/python3.7/site-packages/ipykernel_launcher.py:54: SettingWithCopyWarning: \n",
            "A value is trying to be set on a copy of a slice from a DataFrame\n",
            "\n",
            "See the caveats in the documentation: https://pandas.pydata.org/pandas-docs/stable/user_guide/indexing.html#returning-a-view-versus-a-copy\n",
            "/opt/conda/lib/python3.7/site-packages/ipykernel_launcher.py:55: SettingWithCopyWarning: \n",
            "A value is trying to be set on a copy of a slice from a DataFrame\n",
            "\n",
            "See the caveats in the documentation: https://pandas.pydata.org/pandas-docs/stable/user_guide/indexing.html#returning-a-view-versus-a-copy\n",
            "/opt/conda/lib/python3.7/site-packages/ipykernel_launcher.py:56: SettingWithCopyWarning: \n",
            "A value is trying to be set on a copy of a slice from a DataFrame\n",
            "\n",
            "See the caveats in the documentation: https://pandas.pydata.org/pandas-docs/stable/user_guide/indexing.html#returning-a-view-versus-a-copy\n",
            "/opt/conda/lib/python3.7/site-packages/ipykernel_launcher.py:57: SettingWithCopyWarning: \n",
            "A value is trying to be set on a copy of a slice from a DataFrame\n",
            "\n",
            "See the caveats in the documentation: https://pandas.pydata.org/pandas-docs/stable/user_guide/indexing.html#returning-a-view-versus-a-copy\n",
            "/opt/conda/lib/python3.7/site-packages/ipykernel_launcher.py:58: SettingWithCopyWarning: \n",
            "A value is trying to be set on a copy of a slice from a DataFrame\n",
            "\n",
            "See the caveats in the documentation: https://pandas.pydata.org/pandas-docs/stable/user_guide/indexing.html#returning-a-view-versus-a-copy\n",
            "/opt/conda/lib/python3.7/site-packages/ipykernel_launcher.py:60: SettingWithCopyWarning: \n",
            "A value is trying to be set on a copy of a slice from a DataFrame\n",
            "\n",
            "See the caveats in the documentation: https://pandas.pydata.org/pandas-docs/stable/user_guide/indexing.html#returning-a-view-versus-a-copy\n",
            "/opt/conda/lib/python3.7/site-packages/ipykernel_launcher.py:61: SettingWithCopyWarning: \n",
            "A value is trying to be set on a copy of a slice from a DataFrame\n",
            "\n",
            "See the caveats in the documentation: https://pandas.pydata.org/pandas-docs/stable/user_guide/indexing.html#returning-a-view-versus-a-copy\n",
            "/opt/conda/lib/python3.7/site-packages/ipykernel_launcher.py:62: SettingWithCopyWarning: \n",
            "A value is trying to be set on a copy of a slice from a DataFrame\n",
            "\n",
            "See the caveats in the documentation: https://pandas.pydata.org/pandas-docs/stable/user_guide/indexing.html#returning-a-view-versus-a-copy\n",
            "/opt/conda/lib/python3.7/site-packages/ipykernel_launcher.py:63: SettingWithCopyWarning: \n",
            "A value is trying to be set on a copy of a slice from a DataFrame\n",
            "\n",
            "See the caveats in the documentation: https://pandas.pydata.org/pandas-docs/stable/user_guide/indexing.html#returning-a-view-versus-a-copy\n",
            "/opt/conda/lib/python3.7/site-packages/ipykernel_launcher.py:64: SettingWithCopyWarning: \n",
            "A value is trying to be set on a copy of a slice from a DataFrame\n",
            "\n",
            "See the caveats in the documentation: https://pandas.pydata.org/pandas-docs/stable/user_guide/indexing.html#returning-a-view-versus-a-copy\n",
            "/opt/conda/lib/python3.7/site-packages/ipykernel_launcher.py:65: SettingWithCopyWarning: \n",
            "A value is trying to be set on a copy of a slice from a DataFrame\n",
            "\n",
            "See the caveats in the documentation: https://pandas.pydata.org/pandas-docs/stable/user_guide/indexing.html#returning-a-view-versus-a-copy\n",
            "/opt/conda/lib/python3.7/site-packages/ipykernel_launcher.py:66: SettingWithCopyWarning: \n",
            "A value is trying to be set on a copy of a slice from a DataFrame\n",
            "\n",
            "See the caveats in the documentation: https://pandas.pydata.org/pandas-docs/stable/user_guide/indexing.html#returning-a-view-versus-a-copy\n",
            "/opt/conda/lib/python3.7/site-packages/ipykernel_launcher.py:67: SettingWithCopyWarning: \n",
            "A value is trying to be set on a copy of a slice from a DataFrame\n",
            "\n",
            "See the caveats in the documentation: https://pandas.pydata.org/pandas-docs/stable/user_guide/indexing.html#returning-a-view-versus-a-copy\n"
          ]
        },
        {
          "data": {
            "text/html": [
              "<div>\n",
              "<style scoped>\n",
              "    .dataframe tbody tr th:only-of-type {\n",
              "        vertical-align: middle;\n",
              "    }\n",
              "\n",
              "    .dataframe tbody tr th {\n",
              "        vertical-align: top;\n",
              "    }\n",
              "\n",
              "    .dataframe thead th {\n",
              "        text-align: right;\n",
              "    }\n",
              "</style>\n",
              "<table border=\"1\" class=\"dataframe\">\n",
              "  <thead>\n",
              "    <tr style=\"text-align: right;\">\n",
              "      <th></th>\n",
              "      <th>Diabetes_binary</th>\n",
              "      <th>HighBP</th>\n",
              "      <th>HighChol</th>\n",
              "      <th>CholCheck</th>\n",
              "      <th>BMI</th>\n",
              "      <th>Smoker</th>\n",
              "      <th>Stroke</th>\n",
              "      <th>HeartDiseaseorAttack</th>\n",
              "      <th>PhysActivity</th>\n",
              "      <th>Fruits</th>\n",
              "      <th>...</th>\n",
              "      <th>AnyHealthcare</th>\n",
              "      <th>NoDocbcCost</th>\n",
              "      <th>GenHlth</th>\n",
              "      <th>MentHlth</th>\n",
              "      <th>PhysHlth</th>\n",
              "      <th>DiffWalk</th>\n",
              "      <th>Sex</th>\n",
              "      <th>Age</th>\n",
              "      <th>Education</th>\n",
              "      <th>Income</th>\n",
              "    </tr>\n",
              "  </thead>\n",
              "  <tbody>\n",
              "    <tr>\n",
              "      <th>0</th>\n",
              "      <td>No Diabetes</td>\n",
              "      <td>High BP</td>\n",
              "      <td>High Cholesterol</td>\n",
              "      <td>Cholesterol Check in 5 Years</td>\n",
              "      <td>40</td>\n",
              "      <td>Yes</td>\n",
              "      <td>No</td>\n",
              "      <td>No</td>\n",
              "      <td>No</td>\n",
              "      <td>No</td>\n",
              "      <td>...</td>\n",
              "      <td>Yes</td>\n",
              "      <td>No</td>\n",
              "      <td>Poor</td>\n",
              "      <td>18</td>\n",
              "      <td>15</td>\n",
              "      <td>Yes</td>\n",
              "      <td>Female</td>\n",
              "      <td>9</td>\n",
              "      <td>Senior High School</td>\n",
              "      <td>Less Than $10,000</td>\n",
              "    </tr>\n",
              "    <tr>\n",
              "      <th>1</th>\n",
              "      <td>No Diabetes</td>\n",
              "      <td>No High</td>\n",
              "      <td>No High Cholesterol</td>\n",
              "      <td>No Cholesterol Check in 5 Years</td>\n",
              "      <td>25</td>\n",
              "      <td>Yes</td>\n",
              "      <td>No</td>\n",
              "      <td>No</td>\n",
              "      <td>Yes</td>\n",
              "      <td>No</td>\n",
              "      <td>...</td>\n",
              "      <td>No</td>\n",
              "      <td>Yes</td>\n",
              "      <td>Good</td>\n",
              "      <td>0</td>\n",
              "      <td>0</td>\n",
              "      <td>No</td>\n",
              "      <td>Female</td>\n",
              "      <td>7</td>\n",
              "      <td>Magister</td>\n",
              "      <td>Less Than $10,000</td>\n",
              "    </tr>\n",
              "    <tr>\n",
              "      <th>2</th>\n",
              "      <td>No Diabetes</td>\n",
              "      <td>High BP</td>\n",
              "      <td>High Cholesterol</td>\n",
              "      <td>Cholesterol Check in 5 Years</td>\n",
              "      <td>28</td>\n",
              "      <td>No</td>\n",
              "      <td>No</td>\n",
              "      <td>No</td>\n",
              "      <td>No</td>\n",
              "      <td>Yes</td>\n",
              "      <td>...</td>\n",
              "      <td>Yes</td>\n",
              "      <td>Yes</td>\n",
              "      <td>Poor</td>\n",
              "      <td>30</td>\n",
              "      <td>30</td>\n",
              "      <td>Yes</td>\n",
              "      <td>Female</td>\n",
              "      <td>9</td>\n",
              "      <td>Senior High School</td>\n",
              "      <td>$75,000 or More</td>\n",
              "    </tr>\n",
              "    <tr>\n",
              "      <th>3</th>\n",
              "      <td>No Diabetes</td>\n",
              "      <td>High BP</td>\n",
              "      <td>No High Cholesterol</td>\n",
              "      <td>Cholesterol Check in 5 Years</td>\n",
              "      <td>27</td>\n",
              "      <td>No</td>\n",
              "      <td>No</td>\n",
              "      <td>No</td>\n",
              "      <td>Yes</td>\n",
              "      <td>Yes</td>\n",
              "      <td>...</td>\n",
              "      <td>Yes</td>\n",
              "      <td>No</td>\n",
              "      <td>Very Good</td>\n",
              "      <td>0</td>\n",
              "      <td>0</td>\n",
              "      <td>No</td>\n",
              "      <td>Female</td>\n",
              "      <td>11</td>\n",
              "      <td>Junior High School</td>\n",
              "      <td>Less Than $35,000</td>\n",
              "    </tr>\n",
              "    <tr>\n",
              "      <th>4</th>\n",
              "      <td>No Diabetes</td>\n",
              "      <td>High BP</td>\n",
              "      <td>High Cholesterol</td>\n",
              "      <td>Cholesterol Check in 5 Years</td>\n",
              "      <td>24</td>\n",
              "      <td>No</td>\n",
              "      <td>No</td>\n",
              "      <td>No</td>\n",
              "      <td>Yes</td>\n",
              "      <td>Yes</td>\n",
              "      <td>...</td>\n",
              "      <td>Yes</td>\n",
              "      <td>No</td>\n",
              "      <td>Very Good</td>\n",
              "      <td>3</td>\n",
              "      <td>0</td>\n",
              "      <td>No</td>\n",
              "      <td>Female</td>\n",
              "      <td>11</td>\n",
              "      <td>Undergraduate Degree</td>\n",
              "      <td>Less Than $10,000</td>\n",
              "    </tr>\n",
              "  </tbody>\n",
              "</table>\n",
              "<p>5 rows × 22 columns</p>\n",
              "</div>"
            ],
            "text/plain": [
              "  Diabetes_binary   HighBP             HighChol  \\\n",
              "0     No Diabetes  High BP     High Cholesterol   \n",
              "1     No Diabetes  No High  No High Cholesterol   \n",
              "2     No Diabetes  High BP     High Cholesterol   \n",
              "3     No Diabetes  High BP  No High Cholesterol   \n",
              "4     No Diabetes  High BP     High Cholesterol   \n",
              "\n",
              "                         CholCheck  BMI Smoker Stroke HeartDiseaseorAttack  \\\n",
              "0     Cholesterol Check in 5 Years   40    Yes     No                   No   \n",
              "1  No Cholesterol Check in 5 Years   25    Yes     No                   No   \n",
              "2     Cholesterol Check in 5 Years   28     No     No                   No   \n",
              "3     Cholesterol Check in 5 Years   27     No     No                   No   \n",
              "4     Cholesterol Check in 5 Years   24     No     No                   No   \n",
              "\n",
              "  PhysActivity Fruits  ... AnyHealthcare NoDocbcCost    GenHlth MentHlth  \\\n",
              "0           No     No  ...           Yes          No       Poor       18   \n",
              "1          Yes     No  ...            No         Yes       Good        0   \n",
              "2           No    Yes  ...           Yes         Yes       Poor       30   \n",
              "3          Yes    Yes  ...           Yes          No  Very Good        0   \n",
              "4          Yes    Yes  ...           Yes          No  Very Good        3   \n",
              "\n",
              "  PhysHlth  DiffWalk     Sex Age             Education             Income  \n",
              "0       15       Yes  Female   9    Senior High School  Less Than $10,000  \n",
              "1        0        No  Female   7              Magister  Less Than $10,000  \n",
              "2       30       Yes  Female   9    Senior High School    $75,000 or More  \n",
              "3        0        No  Female  11    Junior High School  Less Than $35,000  \n",
              "4        0        No  Female  11  Undergraduate Degree  Less Than $10,000  \n",
              "\n",
              "[5 rows x 22 columns]"
            ]
          },
          "execution_count": 17,
          "metadata": {},
          "output_type": "execute_result"
        }
      ],
      "source": [
        "#transform data\n",
        "df.Diabetes_binary[df['Diabetes_binary'] == 0] = 'No Diabetes'\n",
        "df.Diabetes_binary[df['Diabetes_binary'] == 1] = 'Diabetes'\n",
        "\n",
        "df.HighBP[df['HighBP'] == 0] = 'No High'\n",
        "df.HighBP[df['HighBP'] == 1] = 'High BP'\n",
        "\n",
        "df.HighChol[df['HighChol'] == 0] = 'No High Cholesterol'\n",
        "df.HighChol[df['HighChol'] == 1] = 'High Cholesterol'\n",
        "\n",
        "df.CholCheck[df['CholCheck'] == 0] = 'No Cholesterol Check in 5 Years'\n",
        "df.CholCheck[df['CholCheck'] == 1] = 'Cholesterol Check in 5 Years'\n",
        "\n",
        "df.Smoker[df['Smoker'] == 0] = 'No'\n",
        "df.Smoker[df['Smoker'] == 1] = 'Yes'\n",
        "\n",
        "df.Stroke[df['Stroke'] == 0] = 'No'\n",
        "df.Stroke[df['Stroke'] == 1] = 'Yes'\n",
        "\n",
        "df.HeartDiseaseorAttack[df['HeartDiseaseorAttack'] == 0] = 'No'\n",
        "df.HeartDiseaseorAttack[df['HeartDiseaseorAttack'] == 1] = 'Yes'\n",
        "\n",
        "df.PhysActivity[df['PhysActivity'] == 0] = 'No'\n",
        "df.PhysActivity[df['PhysActivity'] == 1] = 'Yes'\n",
        "\n",
        "df.Fruits[df['Fruits'] == 0] = 'No'\n",
        "df.Fruits[df['Fruits'] == 1] = 'Yes'\n",
        "\n",
        "df.Veggies[df['Veggies'] == 0] = 'No'\n",
        "df.Veggies[df['Veggies'] == 1] = 'Yes'\n",
        "\n",
        "df.HvyAlcoholConsump[df['HvyAlcoholConsump'] == 0] = 'No'\n",
        "df.HvyAlcoholConsump[df['HvyAlcoholConsump'] == 1] = 'Yes'\n",
        "\n",
        "df.AnyHealthcare[df['AnyHealthcare'] == 0] = 'No'\n",
        "df.AnyHealthcare[df['AnyHealthcare'] == 1] = 'Yes'\n",
        "\n",
        "df.NoDocbcCost[df['NoDocbcCost'] == 0] = 'No'\n",
        "df.NoDocbcCost[df['NoDocbcCost'] == 1] = 'Yes'\n",
        "\n",
        "df.GenHlth[df['GenHlth'] == 1] = 'Excellent'\n",
        "df.GenHlth[df['GenHlth'] == 2] = 'Very Good'\n",
        "df.GenHlth[df['GenHlth'] == 3] = 'Good'\n",
        "df.GenHlth[df['GenHlth'] == 4] = 'Fair'\n",
        "df.GenHlth[df['GenHlth'] == 5] = 'Poor'\n",
        "\n",
        "df.DiffWalk[df['DiffWalk'] == 0] = 'No'\n",
        "df.DiffWalk[df['DiffWalk'] == 1] = 'Yes'\n",
        "\n",
        "df.Sex[df['Sex'] == 0] = 'Female'\n",
        "df.Sex[df['Sex'] == 1] = 'Male'\n",
        "\n",
        "df.Education[df['Education'] == 1] = 'Never Attended School'\n",
        "df.Education[df['Education'] == 2] = 'Elementary'\n",
        "df.Education[df['Education'] == 3] = 'Junior High School'\n",
        "df.Education[df['Education'] == 4] = 'Senior High School'\n",
        "df.Education[df['Education'] == 5] = 'Undergraduate Degree'\n",
        "df.Education[df['Education'] == 6] = 'Magister'\n",
        "\n",
        "df.Income[df['Income'] == 1] = 'Less Than $10,000'\n",
        "df.Income[df['Income'] == 2] = 'Less Than $10,000'\n",
        "df.Income[df['Income'] == 3] = 'Less Than $10,000'\n",
        "df.Income[df['Income'] == 4] = 'Less Than $10,000'\n",
        "df.Income[df['Income'] == 5] = 'Less Than $35,000'\n",
        "df.Income[df['Income'] == 6] = 'Less Than $35,000'\n",
        "df.Income[df['Income'] == 7] = 'Less Than $35,000'\n",
        "df.Income[df['Income'] == 8] = '$75,000 or More'\n",
        "df.head()"
      ]
    },
    {
      "cell_type": "code",
      "execution_count": null,
      "id": "28ba288a",
      "metadata": {
        "execution": {
          "iopub.execute_input": "2021-11-09T06:40:10.492323Z",
          "iopub.status.busy": "2021-11-09T06:40:10.491613Z",
          "iopub.status.idle": "2021-11-09T06:40:10.809295Z",
          "shell.execute_reply": "2021-11-09T06:40:10.809787Z",
          "shell.execute_reply.started": "2021-11-09T06:38:09.532477Z"
        },
        "papermill": {
          "duration": 0.373156,
          "end_time": "2021-11-09T06:40:10.809974",
          "exception": false,
          "start_time": "2021-11-09T06:40:10.436818",
          "status": "completed"
        },
        "tags": [],
        "id": "28ba288a",
        "outputId": "bdf6a287-d66d-47e2-8a77-c2aec1513d4a"
      },
      "outputs": [
        {
          "name": "stderr",
          "output_type": "stream",
          "text": [
            "/opt/conda/lib/python3.7/site-packages/seaborn/_decorators.py:43: FutureWarning: Pass the following variable as a keyword arg: x. From version 0.12, the only valid positional argument will be `data`, and passing other arguments without an explicit keyword will result in an error or misinterpretation.\n",
            "  FutureWarning\n"
          ]
        },
        {
          "data": {
            "image/png": "[encoded data removed]",
            "text/plain": [
              "<Figure size 576x432 with 1 Axes>"
            ]
          },
          "metadata": {
            "needs_background": "light"
          },
          "output_type": "display_data"
        }
      ],
      "source": [
        "#visualize diabetes status\n",
        "plt.figure(figsize = (8,6))\n",
        "sns.countplot(df['Diabetes_binary'])\n",
        "plt.title(\"Diabetes Status\")\n",
        "plt.show()"
      ]
    },
    {
      "cell_type": "code",
      "execution_count": null,
      "id": "fd0aaf87",
      "metadata": {
        "execution": {
          "iopub.execute_input": "2021-11-09T06:40:10.918994Z",
          "iopub.status.busy": "2021-11-09T06:40:10.912539Z",
          "iopub.status.idle": "2021-11-09T06:40:10.959504Z",
          "shell.execute_reply": "2021-11-09T06:40:10.958949Z",
          "shell.execute_reply.started": "2021-11-09T06:38:09.810531Z"
        },
        "papermill": {
          "duration": 0.103472,
          "end_time": "2021-11-09T06:40:10.959643",
          "exception": false,
          "start_time": "2021-11-09T06:40:10.856171",
          "status": "completed"
        },
        "tags": [],
        "id": "fd0aaf87",
        "outputId": "817237ea-f937-4c2e-9da1-d20b880aee5a"
      },
      "outputs": [
        {
          "name": "stdout",
          "output_type": "stream",
          "text": [
            "  Diabetes_binary   HighBP   Count\n",
            "0        Diabetes  High BP   26604\n",
            "1        Diabetes  No High    8742\n",
            "2     No Diabetes  High BP   82225\n",
            "3     No Diabetes  No High  136109\n"
          ]
        }
      ],
      "source": [
        "#group diabetes status & BP\n",
        "diabetes_bp = df.groupby(['Diabetes_binary', 'HighBP']).size().reset_index(name = 'Count')\n",
        "print(diabetes_bp)"
      ]
    },
    {
      "cell_type": "code",
      "execution_count": null,
      "id": "7bef8404",
      "metadata": {
        "execution": {
          "iopub.execute_input": "2021-11-09T06:40:11.082235Z",
          "iopub.status.busy": "2021-11-09T06:40:11.074391Z",
          "iopub.status.idle": "2021-11-09T06:40:11.273479Z",
          "shell.execute_reply": "2021-11-09T06:40:11.273972Z",
          "shell.execute_reply.started": "2021-11-09T06:38:09.867987Z"
        },
        "papermill": {
          "duration": 0.266754,
          "end_time": "2021-11-09T06:40:11.274159",
          "exception": false,
          "start_time": "2021-11-09T06:40:11.007405",
          "status": "completed"
        },
        "tags": [],
        "id": "7bef8404",
        "outputId": "1b5ad26a-fc19-421b-d350-ddedef57d479"
      },
      "outputs": [
        {
          "data": {
            "image/png": "[encoded data removed]",
            "text/plain": [
              "<Figure size 576x432 with 1 Axes>"
            ]
          },
          "metadata": {
            "needs_background": "light"
          },
          "output_type": "display_data"
        }
      ],
      "source": [
        "#visualize diabetes status ~ BP\n",
        "plt.figure(figsize = (8,6))\n",
        "sns.barplot(x = 'Diabetes_binary', y = 'Count', hue = 'HighBP', data = diabetes_bp, palette = 'Set1')\n",
        "plt.title(\"Dibaetes Status ~ BP\")\n",
        "plt.show()"
      ]
    },
    {
      "cell_type": "code",
      "execution_count": null,
      "id": "a8475ff6",
      "metadata": {
        "execution": {
          "iopub.execute_input": "2021-11-09T06:40:11.375246Z",
          "iopub.status.busy": "2021-11-09T06:40:11.374626Z",
          "iopub.status.idle": "2021-11-09T06:40:11.428104Z",
          "shell.execute_reply": "2021-11-09T06:40:11.428620Z",
          "shell.execute_reply.started": "2021-11-09T06:38:10.104294Z"
        },
        "papermill": {
          "duration": 0.107137,
          "end_time": "2021-11-09T06:40:11.428810",
          "exception": false,
          "start_time": "2021-11-09T06:40:11.321673",
          "status": "completed"
        },
        "tags": [],
        "id": "a8475ff6",
        "outputId": "b15402bb-010d-42ca-c84a-5735d60db9f8"
      },
      "outputs": [
        {
          "name": "stdout",
          "output_type": "stream",
          "text": [
            "  Diabetes_binary             HighChol   Count\n",
            "0        Diabetes     High Cholesterol   23686\n",
            "1        Diabetes  No High Cholesterol   11660\n",
            "2     No Diabetes     High Cholesterol   83905\n",
            "3     No Diabetes  No High Cholesterol  134429\n"
          ]
        }
      ],
      "source": [
        "#group diabetes status & cholesterol status\n",
        "diabetes_chol = df.groupby(['Diabetes_binary', 'HighChol']).size().reset_index(name = 'Count')\n",
        "print(diabetes_chol)"
      ]
    },
    {
      "cell_type": "code",
      "execution_count": null,
      "id": "6f3a0202",
      "metadata": {
        "execution": {
          "iopub.execute_input": "2021-11-09T06:40:11.542008Z",
          "iopub.status.busy": "2021-11-09T06:40:11.541038Z",
          "iopub.status.idle": "2021-11-09T06:40:11.767652Z",
          "shell.execute_reply": "2021-11-09T06:40:11.768127Z",
          "shell.execute_reply.started": "2021-11-09T06:38:10.180033Z"
        },
        "papermill": {
          "duration": 0.29196,
          "end_time": "2021-11-09T06:40:11.768301",
          "exception": false,
          "start_time": "2021-11-09T06:40:11.476341",
          "status": "completed"
        },
        "tags": [],
        "id": "6f3a0202",
        "outputId": "91b46a75-aa3c-431e-8ebb-f94abcc4ac8b"
      },
      "outputs": [
        {
          "data": {
            "image/png": "[encoded data removed]",
            "text/plain": [
              "<Figure size 576x432 with 1 Axes>"
            ]
          },
          "metadata": {
            "needs_background": "light"
          },
          "output_type": "display_data"
        }
      ],
      "source": [
        "#visualize diabetes status ~ cholesterol status\n",
        "plt.figure(figsize = (8,6))\n",
        "sns.barplot(x = 'Diabetes_binary', y = 'Count', hue = 'HighChol', data = diabetes_chol, palette = 'Set2')\n",
        "plt.title(\"Dibaetes Status ~ Cholesterol Status\")\n",
        "plt.show()"
      ]
    },
    {
      "cell_type": "code",
      "execution_count": null,
      "id": "363e04c2",
      "metadata": {
        "execution": {
          "iopub.execute_input": "2021-11-09T06:40:11.868524Z",
          "iopub.status.busy": "2021-11-09T06:40:11.867597Z",
          "iopub.status.idle": "2021-11-09T06:40:11.924511Z",
          "shell.execute_reply": "2021-11-09T06:40:11.925303Z",
          "shell.execute_reply.started": "2021-11-09T06:38:10.433493Z"
        },
        "papermill": {
          "duration": 0.109161,
          "end_time": "2021-11-09T06:40:11.925560",
          "exception": false,
          "start_time": "2021-11-09T06:40:11.816399",
          "status": "completed"
        },
        "tags": [],
        "id": "363e04c2",
        "outputId": "f41e388f-6ae6-4dfa-b3a9-7e1acf6f1d5a"
      },
      "outputs": [
        {
          "name": "stdout",
          "output_type": "stream",
          "text": [
            "  Diabetes_binary                        CholCheck   Count\n",
            "0        Diabetes     Cholesterol Check in 5 Years   35105\n",
            "1        Diabetes  No Cholesterol Check in 5 Years     241\n",
            "2     No Diabetes     Cholesterol Check in 5 Years  209105\n",
            "3     No Diabetes  No Cholesterol Check in 5 Years    9229\n"
          ]
        }
      ],
      "source": [
        "#group diabetes status & cholesterol check\n",
        "diabetes_check = df.groupby(['Diabetes_binary', 'CholCheck']).size().reset_index(name = 'Count')\n",
        "print(diabetes_check)"
      ]
    },
    {
      "cell_type": "code",
      "execution_count": null,
      "id": "d44ebeda",
      "metadata": {
        "execution": {
          "iopub.execute_input": "2021-11-09T06:40:12.057814Z",
          "iopub.status.busy": "2021-11-09T06:40:12.056835Z",
          "iopub.status.idle": "2021-11-09T06:40:12.290147Z",
          "shell.execute_reply": "2021-11-09T06:40:12.289295Z",
          "shell.execute_reply.started": "2021-11-09T06:38:10.502458Z"
        },
        "papermill": {
          "duration": 0.296033,
          "end_time": "2021-11-09T06:40:12.290447",
          "exception": false,
          "start_time": "2021-11-09T06:40:11.994414",
          "status": "completed"
        },
        "tags": [],
        "id": "d44ebeda",
        "outputId": "7c01a534-ad11-448e-e965-1612ad95ff96"
      },
      "outputs": [
        {
          "data": {
            "image/png": "[encoded data removed]",
            "text/plain": [
              "<Figure size 576x432 with 1 Axes>"
            ]
          },
          "metadata": {
            "needs_background": "light"
          },
          "output_type": "display_data"
        }
      ],
      "source": [
        "#visualize diabetes status ~ cholesterol check \n",
        "plt.figure(figsize = (8,6))\n",
        "sns.barplot(x = 'Diabetes_binary', y = 'Count', hue = 'CholCheck', data = diabetes_check)\n",
        "plt.title(\"Dibaetes Status ~ Cholesterol Check\")\n",
        "plt.show()"
      ]
    },
    {
      "cell_type": "code",
      "execution_count": null,
      "id": "e11d5b67",
      "metadata": {
        "execution": {
          "iopub.execute_input": "2021-11-09T06:40:12.403784Z",
          "iopub.status.busy": "2021-11-09T06:40:12.403167Z",
          "iopub.status.idle": "2021-11-09T06:40:12.715378Z",
          "shell.execute_reply": "2021-11-09T06:40:12.714670Z",
          "shell.execute_reply.started": "2021-11-09T06:38:10.735887Z"
        },
        "papermill": {
          "duration": 0.36662,
          "end_time": "2021-11-09T06:40:12.715562",
          "exception": false,
          "start_time": "2021-11-09T06:40:12.348942",
          "status": "completed"
        },
        "tags": [],
        "id": "e11d5b67",
        "outputId": "4efac5e8-3928-407f-b367-5dc41f3a371e"
      },
      "outputs": [
        {
          "data": {
            "image/png": "[encoded data removed]",
            "text/plain": [
              "<Figure size 576x432 with 1 Axes>"
            ]
          },
          "metadata": {
            "needs_background": "light"
          },
          "output_type": "display_data"
        }
      ],
      "source": [
        "#visualize diabetes status ~ BMI\n",
        "plt.figure(figsize = (8,6))\n",
        "sns.boxplot(data = df, x = 'Diabetes_binary', y = 'BMI', palette = 'Set1')\n",
        "plt.title(\"Dibaetes Status ~ BMI\")\n",
        "plt.show()"
      ]
    },
    {
      "cell_type": "code",
      "execution_count": null,
      "id": "5a4612f5",
      "metadata": {
        "execution": {
          "iopub.execute_input": "2021-11-09T06:40:12.828134Z",
          "iopub.status.busy": "2021-11-09T06:40:12.827519Z",
          "iopub.status.idle": "2021-11-09T06:40:12.872432Z",
          "shell.execute_reply": "2021-11-09T06:40:12.872892Z",
          "shell.execute_reply.started": "2021-11-09T06:38:11.056226Z"
        },
        "papermill": {
          "duration": 0.106616,
          "end_time": "2021-11-09T06:40:12.873075",
          "exception": false,
          "start_time": "2021-11-09T06:40:12.766459",
          "status": "completed"
        },
        "tags": [],
        "id": "5a4612f5",
        "outputId": "600f7f59-cc30-4ff7-bd7d-0e4259b5a55c"
      },
      "outputs": [
        {
          "name": "stdout",
          "output_type": "stream",
          "text": [
            "  Diabetes_binary Smoker   Count\n",
            "0        Diabetes     No   17029\n",
            "1        Diabetes    Yes   18317\n",
            "2     No Diabetes     No  124228\n",
            "3     No Diabetes    Yes   94106\n"
          ]
        }
      ],
      "source": [
        "#group diabetes status & smoker status\n",
        "diabetes_smoker = df.groupby(['Diabetes_binary', 'Smoker']).size().reset_index(name = 'Count')\n",
        "print(diabetes_smoker)"
      ]
    },
    {
      "cell_type": "code",
      "execution_count": null,
      "id": "c095683c",
      "metadata": {
        "execution": {
          "iopub.execute_input": "2021-11-09T06:40:12.979442Z",
          "iopub.status.busy": "2021-11-09T06:40:12.978447Z",
          "iopub.status.idle": "2021-11-09T06:40:13.134542Z",
          "shell.execute_reply": "2021-11-09T06:40:13.135000Z",
          "shell.execute_reply.started": "2021-11-09T06:38:11.109600Z"
        },
        "papermill": {
          "duration": 0.211021,
          "end_time": "2021-11-09T06:40:13.135190",
          "exception": false,
          "start_time": "2021-11-09T06:40:12.924169",
          "status": "completed"
        },
        "tags": [],
        "id": "c095683c",
        "outputId": "559edd6c-3e7a-4136-a833-4d473ef8c04c"
      },
      "outputs": [
        {
          "data": {
            "image/png": "[encoded data removed]",
            "text/plain": [
              "<Figure size 576x432 with 1 Axes>"
            ]
          },
          "metadata": {
            "needs_background": "light"
          },
          "output_type": "display_data"
        }
      ],
      "source": [
        "#visualize diabetes status ~ smoker status \n",
        "plt.figure(figsize = (8,6))\n",
        "sns.barplot(x = 'Diabetes_binary', y = 'Count', hue = 'Smoker', data = diabetes_smoker, palette = 'Set2')\n",
        "plt.title(\"Dibaetes Status ~ Smoker Status\")\n",
        "plt.show()"
      ]
    },
    {
      "cell_type": "code",
      "execution_count": null,
      "id": "8fdb97c1",
      "metadata": {
        "execution": {
          "iopub.execute_input": "2021-11-09T06:40:13.241609Z",
          "iopub.status.busy": "2021-11-09T06:40:13.240691Z",
          "iopub.status.idle": "2021-11-09T06:40:13.290336Z",
          "shell.execute_reply": "2021-11-09T06:40:13.290772Z",
          "shell.execute_reply.started": "2021-11-09T06:38:11.331216Z"
        },
        "papermill": {
          "duration": 0.104671,
          "end_time": "2021-11-09T06:40:13.290960",
          "exception": false,
          "start_time": "2021-11-09T06:40:13.186289",
          "status": "completed"
        },
        "tags": [],
        "id": "8fdb97c1",
        "outputId": "b01adfb4-2c91-49c5-c18d-b3f89f00fae7"
      },
      "outputs": [
        {
          "name": "stdout",
          "output_type": "stream",
          "text": [
            "  Diabetes_binary Stroke   Count\n",
            "0        Diabetes     No   32078\n",
            "1        Diabetes    Yes    3268\n",
            "2     No Diabetes     No  211310\n",
            "3     No Diabetes    Yes    7024\n"
          ]
        }
      ],
      "source": [
        "#group diabetes status & stroke status\n",
        "diabetes_stroke = df.groupby(['Diabetes_binary', 'Stroke']).size().reset_index(name = 'Count')\n",
        "print(diabetes_stroke)"
      ]
    },
    {
      "cell_type": "code",
      "execution_count": null,
      "id": "4cfd7a8a",
      "metadata": {
        "execution": {
          "iopub.execute_input": "2021-11-09T06:40:13.397783Z",
          "iopub.status.busy": "2021-11-09T06:40:13.396785Z",
          "iopub.status.idle": "2021-11-09T06:40:13.610485Z",
          "shell.execute_reply": "2021-11-09T06:40:13.610923Z",
          "shell.execute_reply.started": "2021-11-09T06:38:11.386045Z"
        },
        "papermill": {
          "duration": 0.26829,
          "end_time": "2021-11-09T06:40:13.611099",
          "exception": false,
          "start_time": "2021-11-09T06:40:13.342809",
          "status": "completed"
        },
        "tags": [],
        "id": "4cfd7a8a",
        "outputId": "48b98281-a156-4022-b39c-decac3e59e3d"
      },
      "outputs": [
        {
          "data": {
            "image/png": "[encoded data removed]",
            "text/plain": [
              "<Figure size 576x432 with 1 Axes>"
            ]
          },
          "metadata": {
            "needs_background": "light"
          },
          "output_type": "display_data"
        }
      ],
      "source": [
        "#visualize diabetes status ~ stroke status \n",
        "plt.figure(figsize = (8,6))\n",
        "sns.barplot(x = 'Diabetes_binary', y = 'Count', hue = 'Stroke', data = diabetes_stroke, palette = 'Set1')\n",
        "plt.title(\"Dibaetes Status ~ Stroke Status\")\n",
        "plt.show()"
      ]
    },
    {
      "cell_type": "code",
      "execution_count": null,
      "id": "c5783f1f",
      "metadata": {
        "execution": {
          "iopub.execute_input": "2021-11-09T06:40:13.718851Z",
          "iopub.status.busy": "2021-11-09T06:40:13.717908Z",
          "iopub.status.idle": "2021-11-09T06:40:13.767462Z",
          "shell.execute_reply": "2021-11-09T06:40:13.767930Z",
          "shell.execute_reply.started": "2021-11-09T06:38:11.623608Z"
        },
        "papermill": {
          "duration": 0.104941,
          "end_time": "2021-11-09T06:40:13.768107",
          "exception": false,
          "start_time": "2021-11-09T06:40:13.663166",
          "status": "completed"
        },
        "tags": [],
        "id": "c5783f1f",
        "outputId": "ccd5dd28-b9b4-4065-9f96-c949c0ec217d"
      },
      "outputs": [
        {
          "name": "stdout",
          "output_type": "stream",
          "text": [
            "  Diabetes_binary HeartDiseaseorAttack   Count\n",
            "0        Diabetes                   No   27468\n",
            "1        Diabetes                  Yes    7878\n",
            "2     No Diabetes                   No  202319\n",
            "3     No Diabetes                  Yes   16015\n"
          ]
        }
      ],
      "source": [
        "#group diabetes status & heart diseaseor attack\n",
        "diabetes_heart = df.groupby(['Diabetes_binary', 'HeartDiseaseorAttack']).size().reset_index(name = 'Count')\n",
        "print(diabetes_heart)"
      ]
    },
    {
      "cell_type": "code",
      "execution_count": null,
      "id": "e6baeb23",
      "metadata": {
        "execution": {
          "iopub.execute_input": "2021-11-09T06:40:13.906060Z",
          "iopub.status.busy": "2021-11-09T06:40:13.905033Z",
          "iopub.status.idle": "2021-11-09T06:40:14.101290Z",
          "shell.execute_reply": "2021-11-09T06:40:14.100775Z",
          "shell.execute_reply.started": "2021-11-09T06:38:11.678677Z"
        },
        "papermill": {
          "duration": 0.28069,
          "end_time": "2021-11-09T06:40:14.101431",
          "exception": false,
          "start_time": "2021-11-09T06:40:13.820741",
          "status": "completed"
        },
        "tags": [],
        "id": "e6baeb23",
        "outputId": "9ec82b3e-01ad-481e-c8d4-ec117f777f14"
      },
      "outputs": [
        {
          "data": {
            "image/png": "[encoded data removed]",
            "text/plain": [
              "<Figure size 576x432 with 1 Axes>"
            ]
          },
          "metadata": {
            "needs_background": "light"
          },
          "output_type": "display_data"
        }
      ],
      "source": [
        "#visualize diabetes status ~ heart diseaseor attack\n",
        "plt.figure(figsize = (8,6))\n",
        "sns.barplot(x = 'Diabetes_binary', y = 'Count', hue = 'HeartDiseaseorAttack', data = diabetes_heart, palette = 'Set2')\n",
        "plt.title(\"Dibaetes Status ~ Heart Diseaseor Attack\")\n",
        "plt.show()"
      ]
    },
    {
      "cell_type": "code",
      "execution_count": null,
      "id": "c8cd7e6d",
      "metadata": {
        "execution": {
          "iopub.execute_input": "2021-11-09T06:40:14.218167Z",
          "iopub.status.busy": "2021-11-09T06:40:14.217539Z",
          "iopub.status.idle": "2021-11-09T06:40:14.259812Z",
          "shell.execute_reply": "2021-11-09T06:40:14.259324Z",
          "shell.execute_reply.started": "2021-11-09T06:38:11.916002Z"
        },
        "papermill": {
          "duration": 0.1051,
          "end_time": "2021-11-09T06:40:14.259964",
          "exception": false,
          "start_time": "2021-11-09T06:40:14.154864",
          "status": "completed"
        },
        "tags": [],
        "id": "c8cd7e6d",
        "outputId": "359ac6eb-454d-4e45-fb8e-66151fe5e9f2"
      },
      "outputs": [
        {
          "name": "stdout",
          "output_type": "stream",
          "text": [
            "  Diabetes_binary PhysActivity   Count\n",
            "0        Diabetes           No   13059\n",
            "1        Diabetes          Yes   22287\n",
            "2     No Diabetes           No   48701\n",
            "3     No Diabetes          Yes  169633\n"
          ]
        }
      ],
      "source": [
        "#group diabetes status & physical activity\n",
        "diabetes_physical = df.groupby(['Diabetes_binary', 'PhysActivity']).size().reset_index(name = 'Count')\n",
        "print(diabetes_physical)"
      ]
    },
    {
      "cell_type": "code",
      "execution_count": null,
      "id": "6fc16904",
      "metadata": {
        "execution": {
          "iopub.execute_input": "2021-11-09T06:40:14.390763Z",
          "iopub.status.busy": "2021-11-09T06:40:14.389767Z",
          "iopub.status.idle": "2021-11-09T06:40:14.589150Z",
          "shell.execute_reply": "2021-11-09T06:40:14.588586Z",
          "shell.execute_reply.started": "2021-11-09T06:38:11.971082Z"
        },
        "papermill": {
          "duration": 0.275961,
          "end_time": "2021-11-09T06:40:14.589291",
          "exception": false,
          "start_time": "2021-11-09T06:40:14.313330",
          "status": "completed"
        },
        "tags": [],
        "id": "6fc16904",
        "outputId": "b0e21d0e-7981-462d-af13-a3891af2812e"
      },
      "outputs": [
        {
          "data": {
            "image/png": "[encoded data removed]",
            "text/plain": [
              "<Figure size 576x432 with 1 Axes>"
            ]
          },
          "metadata": {
            "needs_background": "light"
          },
          "output_type": "display_data"
        }
      ],
      "source": [
        "#visualize diabetes status ~ physical activity\n",
        "plt.figure(figsize = (8,6))\n",
        "sns.barplot(x = 'Diabetes_binary', y = 'Count', hue = 'PhysActivity', data = diabetes_physical)\n",
        "plt.title(\"Dibaetes Status ~ Physical Activity\")\n",
        "plt.show()"
      ]
    },
    {
      "cell_type": "code",
      "execution_count": null,
      "id": "8ffb924e",
      "metadata": {
        "execution": {
          "iopub.execute_input": "2021-11-09T06:40:14.701035Z",
          "iopub.status.busy": "2021-11-09T06:40:14.700108Z",
          "iopub.status.idle": "2021-11-09T06:40:14.751007Z",
          "shell.execute_reply": "2021-11-09T06:40:14.750504Z",
          "shell.execute_reply.started": "2021-11-09T06:38:12.203751Z"
        },
        "papermill": {
          "duration": 0.10781,
          "end_time": "2021-11-09T06:40:14.751151",
          "exception": false,
          "start_time": "2021-11-09T06:40:14.643341",
          "status": "completed"
        },
        "tags": [],
        "id": "8ffb924e",
        "outputId": "e4cfae04-eb36-4612-9bd5-f0bebd691821"
      },
      "outputs": [
        {
          "name": "stdout",
          "output_type": "stream",
          "text": [
            "  Diabetes_binary Fruits   Count\n",
            "0        Diabetes     No   14653\n",
            "1        Diabetes    Yes   20693\n",
            "2     No Diabetes     No   78129\n",
            "3     No Diabetes    Yes  140205\n"
          ]
        }
      ],
      "source": [
        "#group diabetes status & fruits\n",
        "diabetes_fruit = df.groupby(['Diabetes_binary', 'Fruits']).size().reset_index(name = 'Count')\n",
        "print(diabetes_fruit)"
      ]
    },
    {
      "cell_type": "code",
      "execution_count": null,
      "id": "a9838347",
      "metadata": {
        "execution": {
          "iopub.execute_input": "2021-11-09T06:40:14.863434Z",
          "iopub.status.busy": "2021-11-09T06:40:14.862450Z",
          "iopub.status.idle": "2021-11-09T06:40:15.078404Z",
          "shell.execute_reply": "2021-11-09T06:40:15.077890Z",
          "shell.execute_reply.started": "2021-11-09T06:38:12.258353Z"
        },
        "papermill": {
          "duration": 0.272976,
          "end_time": "2021-11-09T06:40:15.078542",
          "exception": false,
          "start_time": "2021-11-09T06:40:14.805566",
          "status": "completed"
        },
        "tags": [],
        "id": "a9838347",
        "outputId": "3ccfa6a9-f466-4873-f90b-c4e448725ba4"
      },
      "outputs": [
        {
          "data": {
            "image/png": "[encoded data removed]",
            "text/plain": [
              "<Figure size 576x432 with 1 Axes>"
            ]
          },
          "metadata": {
            "needs_background": "light"
          },
          "output_type": "display_data"
        }
      ],
      "source": [
        "#visualize diabetes status ~ fruits\n",
        "plt.figure(figsize = (8,6))\n",
        "sns.barplot(x = 'Diabetes_binary', y = 'Count', hue = 'Fruits', data = diabetes_fruit, palette = 'Set1')\n",
        "plt.title(\"Dibaetes Status ~ Fruits\")\n",
        "plt.show()"
      ]
    },
    {
      "cell_type": "code",
      "execution_count": null,
      "id": "79963dd0",
      "metadata": {
        "execution": {
          "iopub.execute_input": "2021-11-09T06:40:15.199498Z",
          "iopub.status.busy": "2021-11-09T06:40:15.198520Z",
          "iopub.status.idle": "2021-11-09T06:40:15.241244Z",
          "shell.execute_reply": "2021-11-09T06:40:15.241702Z",
          "shell.execute_reply.started": "2021-11-09T06:38:12.627701Z"
        },
        "papermill": {
          "duration": 0.108267,
          "end_time": "2021-11-09T06:40:15.241863",
          "exception": false,
          "start_time": "2021-11-09T06:40:15.133596",
          "status": "completed"
        },
        "tags": [],
        "id": "79963dd0",
        "outputId": "91427f34-1d36-421c-c209-10d2553f8e87"
      },
      "outputs": [
        {
          "name": "stdout",
          "output_type": "stream",
          "text": [
            "  Diabetes_binary Veggies   Count\n",
            "0        Diabetes      No    8610\n",
            "1        Diabetes     Yes   26736\n",
            "2     No Diabetes      No   39229\n",
            "3     No Diabetes     Yes  179105\n"
          ]
        }
      ],
      "source": [
        "#group diabetes status & veggies\n",
        "diabetes_veggies = df.groupby(['Diabetes_binary', 'Veggies']).size().reset_index(name = 'Count')\n",
        "print(diabetes_veggies)"
      ]
    },
    {
      "cell_type": "code",
      "execution_count": null,
      "id": "726d34da",
      "metadata": {
        "execution": {
          "iopub.execute_input": "2021-11-09T06:40:15.528786Z",
          "iopub.status.busy": "2021-11-09T06:40:15.362263Z",
          "iopub.status.idle": "2021-11-09T06:40:15.716837Z",
          "shell.execute_reply": "2021-11-09T06:40:15.716266Z",
          "shell.execute_reply.started": "2021-11-09T06:38:12.680590Z"
        },
        "papermill": {
          "duration": 0.419661,
          "end_time": "2021-11-09T06:40:15.716992",
          "exception": false,
          "start_time": "2021-11-09T06:40:15.297331",
          "status": "completed"
        },
        "tags": [],
        "id": "726d34da",
        "outputId": "de747a6c-c4ca-4db4-acb2-2fec0976b356"
      },
      "outputs": [
        {
          "data": {
            "image/png": "[encoded data removed]",
            "text/plain": [
              "<Figure size 576x432 with 1 Axes>"
            ]
          },
          "metadata": {
            "needs_background": "light"
          },
          "output_type": "display_data"
        }
      ],
      "source": [
        "#visualize diabetes status ~ veggies\n",
        "plt.figure(figsize = (8,6))\n",
        "sns.barplot(x = 'Diabetes_binary', y = 'Count', hue = 'Veggies', data = diabetes_veggies, palette = 'Set2')\n",
        "plt.title(\"Dibaetes Status ~ Veggies\")\n",
        "plt.show()"
      ]
    },
    {
      "cell_type": "code",
      "execution_count": null,
      "id": "2d6d6801",
      "metadata": {
        "execution": {
          "iopub.execute_input": "2021-11-09T06:40:15.839370Z",
          "iopub.status.busy": "2021-11-09T06:40:15.838416Z",
          "iopub.status.idle": "2021-11-09T06:40:15.888912Z",
          "shell.execute_reply": "2021-11-09T06:40:15.888388Z",
          "shell.execute_reply.started": "2021-11-09T06:38:12.907102Z"
        },
        "papermill": {
          "duration": 0.113109,
          "end_time": "2021-11-09T06:40:15.889055",
          "exception": false,
          "start_time": "2021-11-09T06:40:15.775946",
          "status": "completed"
        },
        "tags": [],
        "id": "2d6d6801",
        "outputId": "95d0b785-e067-4f8e-896b-6347ebbdda82"
      },
      "outputs": [
        {
          "name": "stdout",
          "output_type": "stream",
          "text": [
            "  Diabetes_binary HvyAlcoholConsump   Count\n",
            "0        Diabetes                No   34514\n",
            "1        Diabetes               Yes     832\n",
            "2     No Diabetes                No  204910\n",
            "3     No Diabetes               Yes   13424\n"
          ]
        }
      ],
      "source": [
        "#group diabetes status & HvyAlcoholConsump\n",
        "diabetes_alcohol = df.groupby(['Diabetes_binary', 'HvyAlcoholConsump']).size().reset_index(name = 'Count')\n",
        "print(diabetes_alcohol)"
      ]
    },
    {
      "cell_type": "code",
      "execution_count": null,
      "id": "0f97480b",
      "metadata": {
        "execution": {
          "iopub.execute_input": "2021-11-09T06:40:16.034089Z",
          "iopub.status.busy": "2021-11-09T06:40:16.010567Z",
          "iopub.status.idle": "2021-11-09T06:40:16.226274Z",
          "shell.execute_reply": "2021-11-09T06:40:16.225776Z",
          "shell.execute_reply.started": "2021-11-09T06:38:12.960293Z"
        },
        "papermill": {
          "duration": 0.280622,
          "end_time": "2021-11-09T06:40:16.226411",
          "exception": false,
          "start_time": "2021-11-09T06:40:15.945789",
          "status": "completed"
        },
        "tags": [],
        "id": "0f97480b",
        "outputId": "e7d8ef8c-eb9f-4481-ac24-36587142aca5"
      },
      "outputs": [
        {
          "data": {
            "image/png": "[encoded data removed]",
            "text/plain": [
              "<Figure size 576x432 with 1 Axes>"
            ]
          },
          "metadata": {
            "needs_background": "light"
          },
          "output_type": "display_data"
        }
      ],
      "source": [
        "#visualize diabetes status ~ HvyAlcoholConsump\n",
        "plt.figure(figsize = (8,6))\n",
        "sns.barplot(x = 'Diabetes_binary', y = 'Count', hue = 'HvyAlcoholConsump', data = diabetes_alcohol)\n",
        "plt.title(\"Dibaetes Status ~ Alcohol Consumption\")\n",
        "plt.show()"
      ]
    },
    {
      "cell_type": "code",
      "execution_count": null,
      "id": "aca071b2",
      "metadata": {
        "execution": {
          "iopub.execute_input": "2021-11-09T06:40:16.343521Z",
          "iopub.status.busy": "2021-11-09T06:40:16.342913Z",
          "iopub.status.idle": "2021-11-09T06:40:16.390719Z",
          "shell.execute_reply": "2021-11-09T06:40:16.391528Z",
          "shell.execute_reply.started": "2021-11-09T06:38:13.191232Z"
        },
        "papermill": {
          "duration": 0.108299,
          "end_time": "2021-11-09T06:40:16.391744",
          "exception": false,
          "start_time": "2021-11-09T06:40:16.283445",
          "status": "completed"
        },
        "tags": [],
        "id": "aca071b2",
        "outputId": "c7d4b77c-fd4e-4335-86f4-5bd05964844a"
      },
      "outputs": [
        {
          "name": "stdout",
          "output_type": "stream",
          "text": [
            "  Diabetes_binary AnyHealthcare   Count\n",
            "0        Diabetes            No    1422\n",
            "1        Diabetes           Yes   33924\n",
            "2     No Diabetes            No   10995\n",
            "3     No Diabetes           Yes  207339\n"
          ]
        }
      ],
      "source": [
        "#group diabetes status & AnyHealthcare\n",
        "diabetes_healthcare = df.groupby(['Diabetes_binary', 'AnyHealthcare']).size().reset_index(name = 'Count')\n",
        "print(diabetes_healthcare)"
      ]
    },
    {
      "cell_type": "code",
      "execution_count": null,
      "id": "0a5550f8",
      "metadata": {
        "execution": {
          "iopub.execute_input": "2021-11-09T06:40:16.516377Z",
          "iopub.status.busy": "2021-11-09T06:40:16.515702Z",
          "iopub.status.idle": "2021-11-09T06:40:16.732202Z",
          "shell.execute_reply": "2021-11-09T06:40:16.731553Z",
          "shell.execute_reply.started": "2021-11-09T06:38:13.242750Z"
        },
        "papermill": {
          "duration": 0.282086,
          "end_time": "2021-11-09T06:40:16.732353",
          "exception": false,
          "start_time": "2021-11-09T06:40:16.450267",
          "status": "completed"
        },
        "tags": [],
        "id": "0a5550f8",
        "outputId": "a4225a03-2ad9-4465-8969-b8efebdbb638"
      },
      "outputs": [
        {
          "data": {
            "image/png": "[encoded data removed]",
            "text/plain": [
              "<Figure size 576x432 with 1 Axes>"
            ]
          },
          "metadata": {
            "needs_background": "light"
          },
          "output_type": "display_data"
        }
      ],
      "source": [
        "#visualize diabetes status ~ AnyHealthcare\n",
        "plt.figure(figsize = (8,6))\n",
        "sns.barplot(x = 'Diabetes_binary', y = 'Count', hue = 'AnyHealthcare', data = diabetes_healthcare, palette = 'Set1')\n",
        "plt.title(\"Dibaetes Status ~ Healthcare\")\n",
        "plt.show()"
      ]
    },
    {
      "cell_type": "code",
      "execution_count": null,
      "id": "265215f0",
      "metadata": {
        "execution": {
          "iopub.execute_input": "2021-11-09T06:40:16.860187Z",
          "iopub.status.busy": "2021-11-09T06:40:16.859005Z",
          "iopub.status.idle": "2021-11-09T06:40:16.903021Z",
          "shell.execute_reply": "2021-11-09T06:40:16.902500Z",
          "shell.execute_reply.started": "2021-11-09T06:38:13.470219Z"
        },
        "papermill": {
          "duration": 0.11151,
          "end_time": "2021-11-09T06:40:16.903155",
          "exception": false,
          "start_time": "2021-11-09T06:40:16.791645",
          "status": "completed"
        },
        "tags": [],
        "id": "265215f0",
        "outputId": "6a955af8-b62f-4a63-b49d-40ac3441ec53"
      },
      "outputs": [
        {
          "name": "stdout",
          "output_type": "stream",
          "text": [
            "  Diabetes_binary NoDocbcCost   Count\n",
            "0        Diabetes          No   31604\n",
            "1        Diabetes         Yes    3742\n",
            "2     No Diabetes          No  200722\n",
            "3     No Diabetes         Yes   17612\n"
          ]
        }
      ],
      "source": [
        "#group diabetes status & doctor cost\n",
        "diabetes_NoDocbcCost = df.groupby(['Diabetes_binary', 'NoDocbcCost']).size().reset_index(name = 'Count')\n",
        "print(diabetes_NoDocbcCost)"
      ]
    },
    {
      "cell_type": "code",
      "execution_count": null,
      "id": "6f7e65b5",
      "metadata": {
        "execution": {
          "iopub.execute_input": "2021-11-09T06:40:17.026170Z",
          "iopub.status.busy": "2021-11-09T06:40:17.025227Z",
          "iopub.status.idle": "2021-11-09T06:40:17.241101Z",
          "shell.execute_reply": "2021-11-09T06:40:17.240575Z",
          "shell.execute_reply.started": "2021-11-09T06:38:13.523633Z"
        },
        "papermill": {
          "duration": 0.279898,
          "end_time": "2021-11-09T06:40:17.241264",
          "exception": false,
          "start_time": "2021-11-09T06:40:16.961366",
          "status": "completed"
        },
        "tags": [],
        "id": "6f7e65b5",
        "outputId": "1cb1b7a8-17a8-4436-cc84-474c498894eb"
      },
      "outputs": [
        {
          "data": {
            "image/png": "[encoded data removed]",
            "text/plain": [
              "<Figure size 576x432 with 1 Axes>"
            ]
          },
          "metadata": {
            "needs_background": "light"
          },
          "output_type": "display_data"
        }
      ],
      "source": [
        "#visualize diabetes status ~ doctor cost\n",
        "plt.figure(figsize = (8,6))\n",
        "sns.barplot(x = 'Diabetes_binary', y = 'Count', hue = 'NoDocbcCost', data = diabetes_NoDocbcCost, palette = 'Set2')\n",
        "plt.title(\"Dibaetes Status ~ Doctor Cost\")\n",
        "plt.show()"
      ]
    },
    {
      "cell_type": "code",
      "execution_count": null,
      "id": "a5cf5acc",
      "metadata": {
        "execution": {
          "iopub.execute_input": "2021-11-09T06:40:17.369473Z",
          "iopub.status.busy": "2021-11-09T06:40:17.362371Z",
          "iopub.status.idle": "2021-11-09T06:40:17.414931Z",
          "shell.execute_reply": "2021-11-09T06:40:17.415473Z",
          "shell.execute_reply.started": "2021-11-09T06:38:13.750530Z"
        },
        "papermill": {
          "duration": 0.115181,
          "end_time": "2021-11-09T06:40:17.415673",
          "exception": false,
          "start_time": "2021-11-09T06:40:17.300492",
          "status": "completed"
        },
        "tags": [],
        "id": "a5cf5acc",
        "outputId": "23ef408e-001a-4b4d-f1b4-323449676dda"
      },
      "outputs": [
        {
          "name": "stdout",
          "output_type": "stream",
          "text": [
            "  Diabetes_binary    GenHlth  Count\n",
            "0        Diabetes  Excellent   1140\n",
            "1        Diabetes       Fair   9790\n",
            "2        Diabetes       Good  13457\n",
            "3        Diabetes       Poor   4578\n",
            "4        Diabetes  Very Good   6381\n",
            "5     No Diabetes  Excellent  44159\n",
            "6     No Diabetes       Fair  21780\n",
            "7     No Diabetes       Good  62189\n",
            "8     No Diabetes       Poor   7503\n",
            "9     No Diabetes  Very Good  82703\n"
          ]
        }
      ],
      "source": [
        "#group diabetes status & general health\n",
        "diabetes_general = df.groupby(['Diabetes_binary', 'GenHlth']).size().reset_index(name = 'Count')\n",
        "print(diabetes_general)"
      ]
    },
    {
      "cell_type": "code",
      "execution_count": null,
      "id": "6e8cce98",
      "metadata": {
        "execution": {
          "iopub.execute_input": "2021-11-09T06:40:17.589910Z",
          "iopub.status.busy": "2021-11-09T06:40:17.554689Z",
          "iopub.status.idle": "2021-11-09T06:40:17.807455Z",
          "shell.execute_reply": "2021-11-09T06:40:17.806768Z",
          "shell.execute_reply.started": "2021-11-09T06:38:13.805826Z"
        },
        "papermill": {
          "duration": 0.33212,
          "end_time": "2021-11-09T06:40:17.807614",
          "exception": false,
          "start_time": "2021-11-09T06:40:17.475494",
          "status": "completed"
        },
        "tags": [],
        "id": "6e8cce98",
        "outputId": "dd016dff-40d1-42e7-a4e8-68f31a806327"
      },
      "outputs": [
        {
          "data": {
            "image/png": "[encoded data removed]",
            "text/plain": [
              "<Figure size 576x432 with 1 Axes>"
            ]
          },
          "metadata": {
            "needs_background": "light"
          },
          "output_type": "display_data"
        }
      ],
      "source": [
        "#visualize diabetes status ~ general health\n",
        "plt.figure(figsize = (8,6))\n",
        "sns.barplot(x = 'Diabetes_binary', y = 'Count', hue = 'GenHlth', data = diabetes_general)\n",
        "plt.title(\"Dibaetes Status ~ General Health\")\n",
        "plt.show()"
      ]
    },
    {
      "cell_type": "code",
      "execution_count": null,
      "id": "39794004",
      "metadata": {
        "execution": {
          "iopub.execute_input": "2021-11-09T06:40:17.949497Z",
          "iopub.status.busy": "2021-11-09T06:40:17.948497Z",
          "iopub.status.idle": "2021-11-09T06:40:18.307519Z",
          "shell.execute_reply": "2021-11-09T06:40:18.306969Z",
          "shell.execute_reply.started": "2021-11-09T06:38:14.083286Z"
        },
        "papermill": {
          "duration": 0.438511,
          "end_time": "2021-11-09T06:40:18.307663",
          "exception": false,
          "start_time": "2021-11-09T06:40:17.869152",
          "status": "completed"
        },
        "tags": [],
        "id": "39794004",
        "outputId": "1bfe1fdd-6ea7-4d5e-e2fe-0fcbd60e77af"
      },
      "outputs": [
        {
          "data": {
            "image/png": "[encoded data removed]",
            "text/plain": [
              "<Figure size 576x432 with 1 Axes>"
            ]
          },
          "metadata": {
            "needs_background": "light"
          },
          "output_type": "display_data"
        }
      ],
      "source": [
        "#visualize diabetes status ~ mental health\n",
        "plt.figure(figsize = (8,6))\n",
        "sns.boxplot(data = df, x = 'Diabetes_binary', y = 'MentHlth', palette = 'Set1')\n",
        "plt.title(\"Dibaetes Status ~ Mental Health\")\n",
        "plt.show()"
      ]
    },
    {
      "cell_type": "code",
      "execution_count": null,
      "id": "50efb7c5",
      "metadata": {
        "execution": {
          "iopub.execute_input": "2021-11-09T06:40:18.436725Z",
          "iopub.status.busy": "2021-11-09T06:40:18.436109Z",
          "iopub.status.idle": "2021-11-09T06:40:18.803359Z",
          "shell.execute_reply": "2021-11-09T06:40:18.802857Z",
          "shell.execute_reply.started": "2021-11-09T06:38:14.464547Z"
        },
        "papermill": {
          "duration": 0.431704,
          "end_time": "2021-11-09T06:40:18.803499",
          "exception": false,
          "start_time": "2021-11-09T06:40:18.371795",
          "status": "completed"
        },
        "tags": [],
        "id": "50efb7c5",
        "outputId": "a00d220c-97a4-49e7-cb4d-45f95dca313a"
      },
      "outputs": [
        {
          "data": {
            "image/png": "[encoded data removed]",
            "text/plain": [
              "<Figure size 576x432 with 1 Axes>"
            ]
          },
          "metadata": {
            "needs_background": "light"
          },
          "output_type": "display_data"
        }
      ],
      "source": [
        "#visualize diabetes status ~ physical health\n",
        "plt.figure(figsize = (8,6))\n",
        "sns.boxplot(data = df, x = 'Diabetes_binary', y = 'PhysHlth', palette = 'Set2')\n",
        "plt.title(\"Dibaetes Status ~ Physical Health\")\n",
        "plt.show()"
      ]
    },
    {
      "cell_type": "code",
      "execution_count": null,
      "id": "2ad7025a",
      "metadata": {
        "execution": {
          "iopub.execute_input": "2021-11-09T06:40:18.930560Z",
          "iopub.status.busy": "2021-11-09T06:40:18.929999Z",
          "iopub.status.idle": "2021-11-09T06:40:18.978500Z",
          "shell.execute_reply": "2021-11-09T06:40:18.979118Z",
          "shell.execute_reply.started": "2021-11-09T06:38:14.844170Z"
        },
        "papermill": {
          "duration": 0.113496,
          "end_time": "2021-11-09T06:40:18.979322",
          "exception": false,
          "start_time": "2021-11-09T06:40:18.865826",
          "status": "completed"
        },
        "tags": [],
        "id": "2ad7025a",
        "outputId": "d545a490-1803-4595-a987-39edf285e886"
      },
      "outputs": [
        {
          "name": "stdout",
          "output_type": "stream",
          "text": [
            "  Diabetes_binary DiffWalk   Count\n",
            "0        Diabetes       No   22225\n",
            "1        Diabetes      Yes   13121\n",
            "2     No Diabetes       No  188780\n",
            "3     No Diabetes      Yes   29554\n"
          ]
        }
      ],
      "source": [
        "#group diabetes status & difficulty walking\n",
        "diabetes_walk = df.groupby(['Diabetes_binary', 'DiffWalk']).size().reset_index(name = 'Count')\n",
        "print(diabetes_walk)"
      ]
    },
    {
      "cell_type": "code",
      "execution_count": null,
      "id": "177448ec",
      "metadata": {
        "execution": {
          "iopub.execute_input": "2021-11-09T06:40:19.109803Z",
          "iopub.status.busy": "2021-11-09T06:40:19.109210Z",
          "iopub.status.idle": "2021-11-09T06:40:19.316846Z",
          "shell.execute_reply": "2021-11-09T06:40:19.317369Z",
          "shell.execute_reply.started": "2021-11-09T06:38:14.897731Z"
        },
        "papermill": {
          "duration": 0.276831,
          "end_time": "2021-11-09T06:40:19.317533",
          "exception": false,
          "start_time": "2021-11-09T06:40:19.040702",
          "status": "completed"
        },
        "tags": [],
        "id": "177448ec",
        "outputId": "c2c5a839-e6ec-4cbc-b03b-43a7d853122d"
      },
      "outputs": [
        {
          "data": {
            "image/png": "[encoded data removed]",
            "text/plain": [
              "<Figure size 576x432 with 1 Axes>"
            ]
          },
          "metadata": {
            "needs_background": "light"
          },
          "output_type": "display_data"
        }
      ],
      "source": [
        "#visualize diabetes status ~ difficulty walking\n",
        "plt.figure(figsize = (8,6))\n",
        "sns.barplot(x = 'Diabetes_binary', y = 'Count', hue = 'DiffWalk', data = diabetes_walk)\n",
        "plt.title(\"Dibaetes Status ~ Difficulty Walking\")\n",
        "plt.show()"
      ]
    },
    {
      "cell_type": "code",
      "execution_count": null,
      "id": "1308d818",
      "metadata": {
        "execution": {
          "iopub.execute_input": "2021-11-09T06:40:19.448500Z",
          "iopub.status.busy": "2021-11-09T06:40:19.447762Z",
          "iopub.status.idle": "2021-11-09T06:40:19.498032Z",
          "shell.execute_reply": "2021-11-09T06:40:19.498710Z",
          "shell.execute_reply.started": "2021-11-09T06:38:15.125274Z"
        },
        "papermill": {
          "duration": 0.11666,
          "end_time": "2021-11-09T06:40:19.498952",
          "exception": false,
          "start_time": "2021-11-09T06:40:19.382292",
          "status": "completed"
        },
        "tags": [],
        "id": "1308d818",
        "outputId": "83a83e02-eeae-4eec-a29f-1d22969a1b8e"
      },
      "outputs": [
        {
          "name": "stdout",
          "output_type": "stream",
          "text": [
            "  Diabetes_binary     Sex   Count\n",
            "0        Diabetes  Female   18411\n",
            "1        Diabetes    Male   16935\n",
            "2     No Diabetes  Female  123563\n",
            "3     No Diabetes    Male   94771\n"
          ]
        }
      ],
      "source": [
        "#group diabetes status & gender\n",
        "diabetes_sex = df.groupby(['Diabetes_binary', 'Sex']).size().reset_index(name = 'Count')\n",
        "print(diabetes_sex)"
      ]
    },
    {
      "cell_type": "code",
      "execution_count": null,
      "id": "9b75407a",
      "metadata": {
        "execution": {
          "iopub.execute_input": "2021-11-09T06:40:19.629409Z",
          "iopub.status.busy": "2021-11-09T06:40:19.628748Z",
          "iopub.status.idle": "2021-11-09T06:40:19.829272Z",
          "shell.execute_reply": "2021-11-09T06:40:19.829679Z",
          "shell.execute_reply.started": "2021-11-09T06:38:15.180865Z"
        },
        "papermill": {
          "duration": 0.267132,
          "end_time": "2021-11-09T06:40:19.829857",
          "exception": false,
          "start_time": "2021-11-09T06:40:19.562725",
          "status": "completed"
        },
        "tags": [],
        "id": "9b75407a",
        "outputId": "645f528b-8701-4e66-f119-4a87388d1acf"
      },
      "outputs": [
        {
          "data": {
            "image/png": "[encoded data removed]",
            "text/plain": [
              "<Figure size 576x432 with 1 Axes>"
            ]
          },
          "metadata": {
            "needs_background": "light"
          },
          "output_type": "display_data"
        }
      ],
      "source": [
        "#visualize diabetes status ~ gender\n",
        "plt.figure(figsize = (8,6))\n",
        "sns.barplot(x = 'Diabetes_binary', y = 'Count', hue = 'Sex', data = diabetes_sex, palette = 'Set1')\n",
        "plt.title(\"Dibaetes Status ~ Gender\")\n",
        "plt.show()"
      ]
    },
    {
      "cell_type": "code",
      "execution_count": null,
      "id": "59d00981",
      "metadata": {
        "execution": {
          "iopub.execute_input": "2021-11-09T06:40:19.960960Z",
          "iopub.status.busy": "2021-11-09T06:40:19.960323Z",
          "iopub.status.idle": "2021-11-09T06:40:20.257229Z",
          "shell.execute_reply": "2021-11-09T06:40:20.257687Z",
          "shell.execute_reply.started": "2021-11-09T06:38:15.399346Z"
        },
        "papermill": {
          "duration": 0.364328,
          "end_time": "2021-11-09T06:40:20.257859",
          "exception": false,
          "start_time": "2021-11-09T06:40:19.893531",
          "status": "completed"
        },
        "tags": [],
        "id": "59d00981",
        "outputId": "e21c2e58-d6b9-40d7-c383-57fe173c6e29"
      },
      "outputs": [
        {
          "data": {
            "image/png": "[encoded data removed]",
            "text/plain": [
              "<Figure size 576x432 with 1 Axes>"
            ]
          },
          "metadata": {
            "needs_background": "light"
          },
          "output_type": "display_data"
        }
      ],
      "source": [
        "#visualize diabetes status ~ age\n",
        "plt.figure(figsize = (8,6))\n",
        "sns.boxplot(data = df, x = 'Diabetes_binary', y = 'Age', palette = 'Set2')\n",
        "plt.title(\"Dibaetes Status ~ Age\")\n",
        "plt.show()"
      ]
    },
    {
      "cell_type": "code",
      "execution_count": null,
      "id": "5619ee44",
      "metadata": {
        "execution": {
          "iopub.execute_input": "2021-11-09T06:40:20.389672Z",
          "iopub.status.busy": "2021-11-09T06:40:20.389121Z",
          "iopub.status.idle": "2021-11-09T06:40:20.442137Z",
          "shell.execute_reply": "2021-11-09T06:40:20.441577Z",
          "shell.execute_reply.started": "2021-11-09T06:38:15.704018Z"
        },
        "papermill": {
          "duration": 0.12011,
          "end_time": "2021-11-09T06:40:20.442282",
          "exception": false,
          "start_time": "2021-11-09T06:40:20.322172",
          "status": "completed"
        },
        "tags": [],
        "id": "5619ee44",
        "outputId": "c696a5ff-ed00-460a-afca-4bb610b68e43"
      },
      "outputs": [
        {
          "name": "stdout",
          "output_type": "stream",
          "text": [
            "   Diabetes_binary              Education  Count\n",
            "0         Diabetes             Elementary   1183\n",
            "1         Diabetes     Junior High School   2296\n",
            "2         Diabetes               Magister  10400\n",
            "3         Diabetes  Never Attended School     47\n",
            "4         Diabetes     Senior High School  11066\n",
            "5         Diabetes   Undergraduate Degree  10354\n",
            "6      No Diabetes             Elementary   2860\n",
            "7      No Diabetes     Junior High School   7182\n",
            "8      No Diabetes               Magister  96925\n",
            "9      No Diabetes  Never Attended School    127\n",
            "10     No Diabetes     Senior High School  51684\n",
            "11     No Diabetes   Undergraduate Degree  59556\n"
          ]
        }
      ],
      "source": [
        "#group diabetes status & education\n",
        "diabetes_education = df.groupby(['Diabetes_binary', 'Education']).size().reset_index(name = 'Count')\n",
        "print(diabetes_education)"
      ]
    },
    {
      "cell_type": "code",
      "execution_count": null,
      "id": "1b57ecc8",
      "metadata": {
        "execution": {
          "iopub.execute_input": "2021-11-09T06:40:20.577015Z",
          "iopub.status.busy": "2021-11-09T06:40:20.576392Z",
          "iopub.status.idle": "2021-11-09T06:40:20.835264Z",
          "shell.execute_reply": "2021-11-09T06:40:20.835774Z",
          "shell.execute_reply.started": "2021-11-09T06:38:15.760146Z"
        },
        "papermill": {
          "duration": 0.328792,
          "end_time": "2021-11-09T06:40:20.835960",
          "exception": false,
          "start_time": "2021-11-09T06:40:20.507168",
          "status": "completed"
        },
        "tags": [],
        "id": "1b57ecc8",
        "outputId": "62952868-f7f4-45ba-fb7c-73470a428074"
      },
      "outputs": [
        {
          "data": {
            "image/png": "[encoded data removed]",
            "text/plain": [
              "<Figure size 576x432 with 1 Axes>"
            ]
          },
          "metadata": {
            "needs_background": "light"
          },
          "output_type": "display_data"
        }
      ],
      "source": [
        "#visualize diabetes status ~ education\n",
        "plt.figure(figsize = (8,6))\n",
        "sns.barplot(x = 'Diabetes_binary', y = 'Count', hue = 'Education', data = diabetes_education)\n",
        "plt.title(\"Dibaetes Status ~ Education\")\n",
        "plt.show()"
      ]
    },
    {
      "cell_type": "code",
      "execution_count": null,
      "id": "f04fc467",
      "metadata": {
        "execution": {
          "iopub.execute_input": "2021-11-09T06:40:20.973755Z",
          "iopub.status.busy": "2021-11-09T06:40:20.973119Z",
          "iopub.status.idle": "2021-11-09T06:40:21.026039Z",
          "shell.execute_reply": "2021-11-09T06:40:21.026752Z",
          "shell.execute_reply.started": "2021-11-09T06:38:16.032489Z"
        },
        "papermill": {
          "duration": 0.124385,
          "end_time": "2021-11-09T06:40:21.026999",
          "exception": false,
          "start_time": "2021-11-09T06:40:20.902614",
          "status": "completed"
        },
        "tags": [],
        "id": "f04fc467",
        "outputId": "35d50be9-3091-4cd6-b24d-da39c730bae8"
      },
      "outputs": [
        {
          "name": "stdout",
          "output_type": "stream",
          "text": [
            "  Diabetes_binary             Income  Count\n",
            "0        Diabetes    $75,000 or More   7195\n",
            "1        Diabetes  Less Than $10,000  13091\n",
            "2        Diabetes  Less Than $35,000  15060\n",
            "3     No Diabetes    $75,000 or More  83190\n",
            "4     No Diabetes  Less Than $10,000  44632\n",
            "5     No Diabetes  Less Than $35,000  90512\n"
          ]
        }
      ],
      "source": [
        "#group diabetes status & income\n",
        "diabetes_income = df.groupby(['Diabetes_binary', 'Income']).size().reset_index(name = 'Count')\n",
        "print(diabetes_income)"
      ]
    },
    {
      "cell_type": "code",
      "execution_count": null,
      "id": "fbd6214f",
      "metadata": {
        "execution": {
          "iopub.execute_input": "2021-11-09T06:40:21.164523Z",
          "iopub.status.busy": "2021-11-09T06:40:21.163937Z",
          "iopub.status.idle": "2021-11-09T06:40:21.379470Z",
          "shell.execute_reply": "2021-11-09T06:40:21.379957Z",
          "shell.execute_reply.started": "2021-11-09T06:38:16.092030Z"
        },
        "papermill": {
          "duration": 0.285758,
          "end_time": "2021-11-09T06:40:21.380126",
          "exception": false,
          "start_time": "2021-11-09T06:40:21.094368",
          "status": "completed"
        },
        "tags": [],
        "id": "fbd6214f",
        "outputId": "8f82765e-c209-4a81-df38-128e6ca389ea"
      },
      "outputs": [
        {
          "data": {
            "image/png": "[encoded data removed]",
            "text/plain": [
              "<Figure size 576x432 with 1 Axes>"
            ]
          },
          "metadata": {
            "needs_background": "light"
          },
          "output_type": "display_data"
        }
      ],
      "source": [
        "#visualize diabetes status ~ income\n",
        "plt.figure(figsize = (8,6))\n",
        "sns.barplot(x = 'Diabetes_binary', y = 'Count', hue = 'Income', data = diabetes_income, palette = 'Set1')\n",
        "plt.title(\"Dibaetes Status ~ Income\")\n",
        "plt.show()"
      ]
    }
  ],
  "metadata": {
    "kernelspec": {
      "display_name": "Python 3",
      "language": "python",
      "name": "python3"
    },
    "language_info": {
      "codemirror_mode": {
        "name": "ipython",
        "version": 3
      },
      "file_extension": ".py",
      "mimetype": "text/x-python",
      "name": "python",
      "nbconvert_exporter": "python",
      "pygments_lexer": "ipython3",
      "version": "3.7.10"
    },
    "papermill": {
      "default_parameters": {},
      "duration": 53.671995,
      "end_time": "2021-11-09T06:40:22.256981",
      "environment_variables": {},
      "exception": null,
      "input_path": "__notebook__.ipynb",
      "output_path": "__notebook__.ipynb",
      "parameters": {},
      "start_time": "2021-11-09T06:39:28.584986",
      "version": "2.3.3"
    },
    "colab": {
      "name": "diabetes-health-indicators.ipynb",
      "provenance": [],
      "collapsed_sections": [
        "35fc4d5a"
      ],
      "include_colab_link": true
    }
  },
  "nbformat": 4,
  "nbformat_minor": 5
}